{
 "cells": [
  {
   "cell_type": "markdown",
   "source": [
    "# Some ideas for spectral MC Simulations"
   ],
   "metadata": {
    "collapsed": false
   }
  },
  {
   "cell_type": "code",
   "execution_count": null,
   "id": "e36582b0",
   "metadata": {
    "pycharm": {
     "is_executing": true
    }
   },
   "outputs": [],
   "source": [
    "import math\n",
    "\n",
    "import luxpy as lx\n",
    "import numpy as np\n",
    "from matplotlib import pyplot\n",
    "import seaborn as sns\n",
    "import pandas as pd\n",
    "\n",
    "# temp import only\n",
    "from empir19nrm02.tools.help import strd, label_font_size, plot_cmf2, save_fig, get_target, label_management, \\\n",
    "    quantil, display_responsivity, get_fig_file_name\n",
    "from empir19nrm02.tools.help import plotCorrelation\n",
    "\n",
    "#%run -i jhelp\n",
    "\n",
    "%matplotlib inline\n",
    "\n",
    "\n",
    "from empir19nrm02.spectral import MCSpectrumSamples, generate_FourierMC0\n",
    "from empir19nrm02.tools import plotHistScales, plotHistScalesWl, plotHistScalesValue, \\\n",
    "    array2analyse, analyse_stat, seaborn_plot_basedata, seaborn_plot_result, sumMC, sumMCV, plotCorrMatrixSmall\n",
    "from empir19nrm02.f1prime import py_f1PrimeG,  py_f1PrimeGlx\n",
    "\n",
    "from empir19nrm02 import _SPD, _RES\n",
    "\n",
    "print('Version of luxpy:', lx.__version__)\n",
    "out_dir = 'MCMet'\n"
   ]
  },
  {
   "cell_type": "markdown",
   "source": [
    "# Parameter for the simulation\n",
    "#### Let's modify some standard data first and calculate some integrated values like $f_{1}^{'}$ and Yxy tristimulus values"
   ],
   "metadata": {
    "collapsed": false
   }
  },
  {
   "cell_type": "code",
   "execution_count": null,
   "outputs": [],
   "source": [
    "strWeighting = 'A'\n",
    "strObserver = '1931_2'\n",
    "# let's use the V(Lambda) Function (0 ... X, 1...Y, 2...Z)\n",
    "iObserverOffset = 1\n",
    "wlResolution = 1\n",
    "wlStart = 360\n",
    "wlStop = 830\n",
    "trials = 1000\n",
    "\n",
    "bIdeal = True\n",
    "bSimDetector = False    # True use RES for Simulation, False use SPD for simulation\n",
    "selected_detector = 73\n",
    "selected_SPD = 1 # 1=NLA, 2=L41"
   ],
   "metadata": {
    "collapsed": false
   }
  },
  {
   "cell_type": "markdown",
   "source": [
    "# MC Simulation\n",
    "Define some data to work with (let's start with the $V(\\lambda)$ function or a white PT-LED example)"
   ],
   "metadata": {
    "collapsed": false
   }
  },
  {
   "cell_type": "code",
   "execution_count": null,
   "outputs": [],
   "source": [
    "lxCmf = lx._CMF['1931_2']\n",
    "lxCmfInterpolate = lx.cie_interp(lxCmf['bar'], wl_new = np.arange(wlStart,wlStop+1,wlResolution), kind = 'S')\n",
    "res = len(lxCmfInterpolate[0])"
   ],
   "metadata": {
    "collapsed": false
   }
  },
  {
   "cell_type": "markdown",
   "source": [
    "# Data storage\n",
    "Take a nominal wavelength scale and the ideal detector/SPD and sore all together into a class instance SPD from luxpy"
   ],
   "metadata": {
    "collapsed": false
   }
  },
  {
   "cell_type": "code",
   "execution_count": null,
   "outputs": [],
   "source": [
    "# Using a detector responsivity for the simulation\n",
    "if bSimDetector:\n",
    "    if bIdeal:\n",
    "        # using an ideal detector\n",
    "        wl=lxCmfInterpolate[0].reshape(1,res)\n",
    "        value=lxCmfInterpolate[2].reshape(1,res)\n",
    "        spd_init = np.r_[wl, value]\n",
    "    else:\n",
    "        # using an detector from the data base\n",
    "        from empir19nrm02 import _RES\n",
    "        wl= _RES['VLDetectors']['S']['data'][0].copy()\n",
    "        value= _RES['VLDetectors']['S']['data'][selected_detector].copy()\n",
    "        res_tmp = wl.shape[0]\n",
    "        wl=wl.reshape(1,res_tmp)\n",
    "        value=value.reshape(1,res_tmp)\n",
    "        spd_org = np.r_[wl, value]\n",
    "        spd_init = lx.cie_interp(spd_org, \\\n",
    "            wl_new = np.arange(wlStart,wlStop+1,wlResolution),\\\n",
    "            kind = 'S',negative_values_allowed=True)\n",
    "# Using a SD for the simulation\n",
    "else:\n",
    "    if bIdeal:\n",
    "        # using an ideal SD (e.g. illumiant L)\n",
    "        lxSpdInterpolate = lx.cie_interp(lx._CIE_ILLUMINANTS['A'], \\\n",
    "            wl_new = np.arange(wlStart,wlStop+1,wlResolution),\\\n",
    "            kind = 'S')\n",
    "        wl=lxSpdInterpolate[0].reshape(1,res)\n",
    "        value=lxSpdInterpolate[1].reshape(1,res)\n",
    "        spd_init = np.r_[wl, value]\n",
    "    else:\n",
    "        # using a ideal SD from the PhotoLED project\n",
    "        from empir19nrm02 import _SPD\n",
    "        wl= _SPD['PHOTOLED']['S']['data'][0].copy()\n",
    "        value= _SPD['PHOTOLED']['S']['data'][selected_SPD].copy()\n",
    "        res_tmp = wl.shape[0]\n",
    "        wl=wl.reshape(1,res_tmp)\n",
    "        value=value.reshape(1,res_tmp)\n",
    "        spd_org = np.r_[wl, value]\n",
    "        spd_init = lx.cie_interp(spd_org, \\\n",
    "            wl_new = np.arange(wlStart,wlStop+1,wlResolution),\\\n",
    "            kind = 'S',negative_values_allowed=True)\n",
    "\n",
    "spd_init[1,:]=spd_init[1,:]/np.max(spd_init[1,:])\n",
    "\n",
    "pyplot.plot( spd_init[0],spd_init[1])"
   ],
   "metadata": {
    "collapsed": false
   }
  },
  {
   "cell_type": "markdown",
   "source": [
    "# Scale to reference?\n",
    "* True:    all graphs will be shown as difference to the reference\n",
    "* False:   all graphs will be shown as they are (without referencing the data)"
   ],
   "metadata": {
    "collapsed": false
   }
  },
  {
   "cell_type": "code",
   "execution_count": null,
   "outputs": [],
   "source": [
    "scale_to_reference = True"
   ],
   "metadata": {
    "collapsed": false
   }
  },
  {
   "cell_type": "markdown",
   "source": [
    "# MC Steps?\n",
    "All MC simulation include several steps (one step for every parameter in the model). The usage of these steps can be\n",
    "selected here.\n",
    "\n",
    "At the end, all selected parameters needs to be switched on together for the combined uncertainty.\n",
    "\n",
    "The last version 'cov' means, that the simulation will be done based on the covaricane matrix and not based on the model\n",
    "parameter variation."
   ],
   "metadata": {
    "collapsed": false
   }
  },
  {
   "cell_type": "code",
   "execution_count": null,
   "outputs": [],
   "source": [
    "mc_enable = { 'nothing': True,\n",
    "              'wl_noise_nc': True,          # non correlated wavelength noise\n",
    "              'wl_noise_c': True,           # correlated wavelength noise\n",
    "              'wl_fourier_noise':True,      # fourier correlated wavelength noise\n",
    "              'value_noise_nc': True,       # non correlated value noise\n",
    "              'value_noise_c': True,        # correlated value noise\n",
    "              'value_fourier_noise':True,   # fourier correlated value noise\n",
    "              'all': True,                  # all components together\n",
    "              'cov': False,                 # simulation based on the covariance matrix and multivariate gaussian noise only\n",
    "              'file': False,                # simulation from a former simulation\n",
    "              }\n",
    "\n",
    "mc_disable = mc_enable.copy()\n",
    "for key in mc_disable:\n",
    "    mc_disable[key]=False\n",
    "\n",
    "mc_cov = mc_disable.copy()\n",
    "mc_cov['cov']=True\n",
    "\n",
    "mc_file = mc_disable.copy()\n",
    "mc_file['file']=True\n"
   ],
   "metadata": {
    "collapsed": false
   }
  },
  {
   "cell_type": "code",
   "execution_count": null,
   "outputs": [],
   "source": [
    "def showResults( samples, name):\n",
    "    print( samples.MCTable)\n",
    "    samples.MCTable.to_excel(get_fig_file_name(dir=out_dir, filename= name + '.xlsx', table=True))\n",
    "\n",
    "    v_wl_ref, v_wl, v_wl_diff, v_mean, v_mean_diff, v_std, q_min, q_max, cov_image, corr_image, counts = samples.get_result()\n",
    "\n",
    "    fig, ax1 = pyplot.subplots()\n",
    "    ax1.plot( v_wl_ref, v_mean, label=name+' mean')\n",
    "    ax1.plot( v_wl_ref, v_std, label=name+' std')\n",
    "    ax1.fill_between( v_wl_ref, q_min, q_max)\n",
    "    ax1.set_xlabel(strd['xlambda'], fontsize=label_font_size)\n",
    "    ax1.set_ylabel( 'mean; stddev / A.U.', fontsize=label_font_size)\n",
    "    ax1.legend()\n",
    "    save_fig(dir=out_dir, filename=name)\n",
    "\n",
    "    fig, ax1 = pyplot.subplots()\n",
    "    ax1.plot( v_wl_ref, v_mean_diff, label=name+' mean diff')\n",
    "    ax1.plot( v_wl_ref, v_std, label=name+' stddev')\n",
    "    ax1.fill_between( v_wl_ref, q_min-v_mean, q_max-v_mean)\n",
    "    ax1.set_xlabel(strd['xlambda'], fontsize=label_font_size)\n",
    "    ax1.set_ylabel( 'mean dif; stddev / A.U.', fontsize=label_font_size)\n",
    "    ax1.legend()\n",
    "    save_fig(dir=out_dir, filename=name+'Diff')\n",
    "\n",
    "    plotCorrelation( cov_image, v_wl_ref, name + 'Covariance')\n",
    "    save_fig(dir=out_dir, filename=name+'cov')\n",
    "\n",
    "    plotCorrelation( corr_image, v_wl_ref, name + 'Correlation')\n",
    "    save_fig(dir=out_dir, filename=name+'corr')\n",
    "\n",
    "    return cov_image"
   ],
   "metadata": {
    "collapsed": false
   }
  },
  {
   "cell_type": "markdown",
   "source": [
    "# Running the MC simulation"
   ],
   "metadata": {
    "collapsed": false
   }
  },
  {
   "cell_type": "markdown",
   "source": [
    "# Generate a first MC Simulation\n",
    "* take the initial spectral data (SD or responsivity)\n",
    "* generate some noise on the value scale only\n",
    "* run the MC simulation\n",
    "* calculate statistical results\n",
    "* save the data as csv and binary (okl) file\n",
    "* show some results"
   ],
   "metadata": {
    "collapsed": false
   }
  },
  {
   "cell_type": "code",
   "execution_count": null,
   "outputs": [],
   "source": [
    "whished_results = ['Yrel', 'x', 'y', 'v@450','v@550','v@650']\n",
    "whished_results_str = ['$Y_{\\mathrm{rel}}$', 'x', 'y', '$S(\\lambda=450 \\mathrm{nm})$', '$S(\\lambda=550 \\mathrm{nm})$', '$S(\\lambda=650 \\mathrm{nm})$']\n",
    "\n",
    "mcSpectrumSamples = MCSpectrumSamples(spd=spd_init, trials=trials)\n",
    "mc_value = mc_disable.copy()\n",
    "mc_value['value_noise_c']=True\n",
    "mc_value['value_noise_nc']=True\n",
    "mc_value['value_fourier_noise']=True\n",
    "mc_value['all']=True\n",
    "\n",
    "mcSpectrumSamples.run_MC(mc_value, whished_results)\n",
    "mcSpectrumSamples.calc_summary(wavelength_stat=False)\n",
    "mcSpectrumSamples.save_to_csv()\n",
    "mcSpectrumSamples.save()\n",
    "\n",
    "cov_image = showResults(mcSpectrumSamples, 'MC_value')"
   ],
   "metadata": {
    "collapsed": false
   }
  },
  {
   "cell_type": "code",
   "execution_count": null,
   "outputs": [],
   "source": [
    "mcSpectrumSamples.spectrumResults.seaborn_plot( whished_results, whished_results_str=whished_results_str, title='Value noise')\n",
    "save_fig(dir=out_dir, filename='MC_Value_seaborn')\n",
    "\n",
    "res_corr=mcSpectrumSamples.spectrumResults.get_table_correlation( whished_results)\n",
    "print( res_corr)\n",
    "plotCorrMatrixSmall(res_corr, whished_results_str, title=None, fileName=None, with_values=True)\n",
    "save_fig(dir=out_dir, filename='MC_Value_corrMatrix')"
   ],
   "metadata": {
    "collapsed": false
   }
  },
  {
   "cell_type": "markdown",
   "source": [
    "# Load the data from the first MC Simulation\n",
    "* Load csv or binary data from the first MC Simulation\n",
    "* Recalculate the statistical data\n",
    "* show some results (and the difference to the original evaluation)"
   ],
   "metadata": {
    "collapsed": false
   }
  },
  {
   "cell_type": "code",
   "execution_count": null,
   "outputs": [],
   "source": [
    "# decide load_csv=True (load data from csv and generate the MC Samples with a multivariante normal distribution) or\n",
    "#        load_csv=False (load the data from pkl-File and generate only the evaluation a second time based on the same\n",
    "#                       spectral distributions)\n",
    "#                       The difference in the cov/corr matrixes should be zero in this case\n",
    "load_csv = False\n",
    "\n",
    "mcSpectrumSamples2 = MCSpectrumSamples(spd=spd_init, trials=trials)\n",
    "if load_csv:\n",
    "    mcSpectrumSamples2.run_MC(mc_cov, whished_results, filename='MCSpectrumSamples')\n",
    "else:\n",
    "    mcSpectrumSamples2.run_MC(mc_file, whished_results, filename='MCSpectrumSamples')\n",
    "\n",
    "mcSpectrumSamples2.calc_summary(wavelength_stat=False)\n",
    "mcSpectrumSamples2.save_to_csv()\n",
    "mcSpectrumSamples2.save()\n",
    "\n",
    "cov_image2=showResults(mcSpectrumSamples2, 'MC_value_load')\n",
    "\n",
    "# there should be no (using binary data) or only smal differences (unsing csv data)\n",
    "plotCorrelation( cov_image - cov_image2, spd_init[0], 'Covariance Diff 1-2')\n",
    "\n",
    "print( 'Mean cov diff:', np.mean(np.abs(cov_image - cov_image2)))"
   ],
   "metadata": {
    "collapsed": false
   }
  },
  {
   "cell_type": "code",
   "execution_count": null,
   "outputs": [],
   "source": [
    "mcSpectrumSamples2.spectrumResults.seaborn_plot( whished_results, whished_results_str=whished_results_str, title='Value noise')\n",
    "save_fig(dir=out_dir, filename='MC_Value_load_seaborn')\n",
    "\n",
    "res_corr2=mcSpectrumSamples2.spectrumResults.get_table_correlation( whished_results)\n",
    "print( res_corr2)\n",
    "plotCorrMatrixSmall(res_corr2, whished_results_str, title=None, fileName=None, with_values=True)\n",
    "save_fig(dir=out_dir, filename='MC_Value_load_corrMatrix')"
   ],
   "metadata": {
    "collapsed": false
   }
  },
  {
   "cell_type": "markdown",
   "source": [
    "# Generate a second MC Simulation\n",
    "* take the initial spectral data (SD or responsivity)\n",
    "* generate some noise on the _wavelength_ scale only\n",
    "* run the MC simulation\n",
    "* calculate statistical results\n",
    "* save the data as csv and binary (okl) file\n",
    "* show some results\n",
    "* interploate the data to the nominal wl-scale\n",
    "* show the resutls again"
   ],
   "metadata": {
    "collapsed": false
   }
  },
  {
   "cell_type": "code",
   "execution_count": null,
   "outputs": [],
   "source": [
    "mcSpectrumSamples3 = MCSpectrumSamples(spd=spd_init, trials=trials)\n",
    "mc_wl = mc_disable.copy()\n",
    "mc_wl['wl_noise_c']=True\n",
    "mc_wl['wl_noise_nc']=True\n",
    "mc_wl['wl_fourier_noise']=True\n",
    "mc_wl['all']=True\n",
    "\n",
    "mcSpectrumSamples3.run_MC(mc_wl, whished_results)\n",
    "mcSpectrumSamples3.calc_summary(wavelength_stat=True)\n",
    "print( mcSpectrumSamples3.MCTable)\n",
    "mcSpectrumSamples3.MCTable.to_excel(get_fig_file_name(dir=out_dir, filename='MC_TableValue3.xlsx', table=True))\n",
    "\n",
    "mcSpectrumSamples3.save_to_csv()\n",
    "mcSpectrumSamples3.save()\n",
    "\n",
    "cov_image3=showResults(mcSpectrumSamples3, 'MC_wl')"
   ],
   "metadata": {
    "collapsed": false,
    "pycharm": {
     "is_executing": true
    }
   }
  },
  {
   "cell_type": "code",
   "execution_count": null,
   "outputs": [],
   "source": [
    "mcSpectrumSamples3.spectrumResults.seaborn_plot( whished_results, whished_results_str=whished_results_str, title='wl noise')\n",
    "save_fig(dir=out_dir, filename='MC_wl_Seaborn')\n",
    "\n",
    "res_corr3=mcSpectrumSamples.spectrumResults.get_table_correlation( whished_results)\n",
    "print( res_corr3)\n",
    "plotCorrMatrixSmall(res_corr3, whished_results_str, title=None, fileName=None, with_values=True)\n",
    "save_fig(dir=out_dir, filename='MC_wl_corrMatrix')"
   ],
   "metadata": {
    "collapsed": false
   }
  },
  {
   "cell_type": "code",
   "execution_count": null,
   "outputs": [],
   "source": [
    "mcSpectrumSamples4 = MCSpectrumSamples(spd=spd_init, trials=trials)\n",
    "mc_all = mc_enable.copy()\n",
    "\n",
    "mcSpectrumSamples4.run_MC(mc_all, whished_results)\n",
    "mcSpectrumSamples4.calc_summary(wavelength_stat=False)\n",
    "print( mcSpectrumSamples4.MCTable)\n",
    "mcSpectrumSamples4.MCTable.to_excel(get_fig_file_name(dir=out_dir, filename='MC_TableValue4.xlsx', table=True))\n",
    "\n",
    "mcSpectrumSamples4.save_to_csv()\n",
    "mcSpectrumSamples4.save()\n",
    "\n",
    "cov_image4=showResults(mcSpectrumSamples4, 'MC_all')"
   ],
   "metadata": {
    "collapsed": false
   }
  },
  {
   "cell_type": "code",
   "execution_count": null,
   "outputs": [],
   "source": [
    "mcSpectrumSamples4.spectrumResults.seaborn_plot( whished_results, whished_results_str=whished_results_str, title='all noise')\n",
    "save_fig(dir=out_dir, filename='MC_all_Seaborn')\n",
    "\n",
    "res_corr4=mcSpectrumSamples.spectrumResults.get_table_correlation( whished_results)\n",
    "print( res_corr4)\n",
    "plotCorrMatrixSmall(res_corr4, whished_results_str, title=None, fileName=None, with_values=True)\n",
    "save_fig(dir=out_dir, filename='MC_all_corrMatrix')"
   ],
   "metadata": {
    "collapsed": false
   }
  },
  {
   "cell_type": "code",
   "execution_count": null,
   "outputs": [],
   "source": [
    "def FourierTableP( trials, wl, SPD, uSPD):\n",
    "    elements2Run = [0,1,2,3,4,5,6,7,8,9,10,20,30,40,42, 50,60,70,80,90,100,150,200,235]\n",
    "    petriTable = pd.DataFrame()\n",
    "    rMatrixSPD = np.zeros((trials, wl.shape[0]))\n",
    "    start_data =np.r_[ wl.reshape(1,wl.shape[0]), SPD.reshape(1,wl.shape[0])]\n",
    "    XYZ = lx.spd_to_xyz( start_data, relative=False, cieobs='1931_2')\n",
    "    Yxy = lx.xyz_to_Yxy (XYZ)\n",
    "    print( Yxy)\n",
    "    x0 = Yxy[0,1]\n",
    "    y0 = Yxy[0,2]\n",
    "    L0 = Yxy[0,0]\n",
    "    CCT0 = lx.xyz_to_cct(XYZ)[0,0]\n",
    "    print( CCT0)\n",
    "    for i, numberNew in enumerate(elements2Run):\n",
    "        for j in range(trials):\n",
    "            rMatrix=generate_FourierMC0( numberNew, wl, uSPD)\n",
    "            rMatrixSPD[j] = (1+rMatrix)*SPD\n",
    "        tmp_data =np.r_[ wl.reshape(1,wl.shape[0]), rMatrixSPD]\n",
    "        XYZ = lx.spd_to_xyz( tmp_data, relative=False, cieobs='1931_2')\n",
    "        Yxy = lx.xyz_to_Yxy (XYZ)\n",
    "        xData = Yxy[:, 1]\n",
    "        yData = Yxy[:, 2]\n",
    "        L = Yxy[:, 0]\n",
    "        CCT = lx.xyz_to_cct(XYZ)\n",
    "        CCT.resize(trials)\n",
    "        # Luminance\n",
    "        [Lvalues, Linterval] = sumMC(L / L0, Coverage=0.95)\n",
    "        #CCT\n",
    "        [CCTvalues, CCTinterval] = sumMC(CCT, Coverage=0.95)\n",
    "        #(x,y)\n",
    "        [xvalues, xinterval] = sumMC(xData, Coverage=0.95)\n",
    "        [yvalues, yinterval] = sumMC(yData, Coverage=0.95)\n",
    "        df = pd.DataFrame( { \\\n",
    "            'N': [numberNew], \\\n",
    "            'dL_mean': Lvalues[0], 'L_std': Lvalues[1], 'L_95%': (Linterval[1]-Linterval[0])/2., \\\n",
    "            'dCCT_mean': (CCTvalues[0]-CCT0), 'CCT_std': CCTvalues[1], 'CCT_95%': (CCTinterval[1] - CCTinterval[0]) / 2., \\\n",
    "            'dx_mean': xvalues[0]-x0, 'x_std': xvalues[1], 'x_95%': (xinterval[1] - xinterval[0]) / 2., \\\n",
    "            'dy_mean': yvalues[0]-y0, 'y_std': yvalues[1], 'x_95%': (yinterval[1] - yinterval[0]) / 2., \\\n",
    "             } , dtype = 'float')\n",
    "\n",
    "        petriTable = pd.concat( [petriTable, df])\n",
    "        print( numberNew)\n",
    "    return petriTable\n",
    "\n",
    "\n",
    "def FourierTablef1p( trials, wl, SPD, uSPD):\n",
    "    elements2Run = [0,1,2,3,4,5,6,7,8,9,10,20,30,40,42, 50,60,70,80,90,100,150,200,235]\n",
    "    petriTable = pd.DataFrame()\n",
    "    rMatrixSPD = np.zeros((trials, wl.shape[0]))\n",
    "\n",
    "    start_data =np.r_[ wl.reshape(1,wl.shape[0]), SPD.reshape(1,wl.shape[0])]\n",
    "    f1p0=py_f1PrimeGlx(start_data, strObserver='1931_2', iObserverOffset = 1, strWeighting='A', iMin=0, dCutOff=0., dBandWidth=0.)\n",
    "    f1pE0=py_f1PrimeGlx(start_data, strObserver='1931_2', iObserverOffset = 1, strWeighting='E', iMin=0, dCutOff=0., dBandWidth=0.)\n",
    "    f1pL0=py_f1PrimeGlx(start_data, strObserver='1931_2', iObserverOffset = 1, strWeighting='LED_B3', iMin=0, dCutOff=0., dBandWidth=0.)\n",
    "    f1pMin0=py_f1PrimeGlx(start_data, strObserver='1931_2', iObserverOffset = 1, strWeighting='A', iMin=1, dCutOff=0., dBandWidth=0.)\n",
    "    f1ppR0=py_f1PrimeGlx(start_data, strObserver='1931_2', iObserverOffset = 1, strWeighting='E', iMin=0, dCutOff=-0.003, dBandWidth=0.)\n",
    "    f1pBW0=py_f1PrimeGlx(start_data, strObserver='1931_2', iObserverOffset = 1, strWeighting='A', iMin=0, dCutOff=0, dBandWidth=20.)\n",
    "    for i, numberNew in enumerate(elements2Run):\n",
    "        for j in range(trials):\n",
    "            rMatrix=generate_FourierMC0( numberNew, wl, uSPD)\n",
    "            rMatrixSPD[j] = (1+rMatrix)*SPD\n",
    "        tmp_data =np.r_[ wl.reshape(1,wl.shape[0]), rMatrixSPD]\n",
    "        f1p=py_f1PrimeGlx(tmp_data, strObserver='1931_2', iObserverOffset = 1, strWeighting='A', iMin=0, dCutOff=0., dBandWidth=0.)\n",
    "        f1pE=py_f1PrimeGlx(tmp_data, strObserver='1931_2', iObserverOffset = 1, strWeighting='E', iMin=0, dCutOff=0., dBandWidth=0.)\n",
    "        f1pL=py_f1PrimeGlx(tmp_data, strObserver='1931_2', iObserverOffset = 1, strWeighting='LED_B3', iMin=0, dCutOff=0., dBandWidth=0.)\n",
    "        f1pMin=py_f1PrimeGlx(tmp_data, strObserver='1931_2', iObserverOffset = 1, strWeighting='A', iMin=1, dCutOff=0., dBandWidth=0.)\n",
    "        f1ppR=py_f1PrimeGlx(tmp_data, strObserver='1931_2', iObserverOffset = 1, strWeighting='E', iMin=0, dCutOff=-0.003, dBandWidth=0.)\n",
    "        f1pBW=py_f1PrimeGlx(tmp_data, strObserver='1931_2', iObserverOffset = 1, strWeighting='A', iMin=0, dCutOff=0, dBandWidth=20.)\n",
    "\n",
    "        [f1p_values, f1p_interval] = sumMC(f1p, Coverage=0.95)\n",
    "        [f1pE_values, f1pE_interval] = sumMC(f1pE, Coverage=0.95)\n",
    "        [f1pL_values, f1pL_interval] = sumMC(f1pL, Coverage=0.95)\n",
    "        [f1pMin_values, f1pMin_interval] = sumMC(f1pMin, Coverage=0.95)\n",
    "        [f1ppR_values, f1ppR_interval] = sumMC(f1ppR, Coverage=0.95)\n",
    "        [f1pBW_values, f1pBW_interval] = sumMC(f1pBW, Coverage=0.95)\n",
    "        df = pd.DataFrame( { \\\n",
    "            'N': [numberNew], \\\n",
    "            'df1p': f1p_values[0]-f1p0, 'f1p_std': f1p_values[1], 'f1p_95%': (f1p_interval[1]-f1p_interval[0])/2., \\\n",
    "            'df1pE': f1pE_values[0]-f1pE0, 'f1pE_std': f1pE_values[1], 'f1pE_95%': (f1pE_interval[1]-f1pE_interval[0])/2., \\\n",
    "            'df1pL': f1pL_values[0]-f1pL0, 'f1pL_std': f1pL_values[1], 'f1pL_95%': (f1pL_interval[1]-f1pL_interval[0])/2., \\\n",
    "            'df1pMin': f1pMin_values[0]-f1pMin0, 'f1pMin_std': f1pMin_values[1], 'f1pMin_95%': (f1pMin_interval[1]-f1pMin_interval[0])/2., \\\n",
    "            'df1ppR': f1ppR_values[0]-f1ppR0, 'f1ppR_std': f1ppR_values[1], 'f1ppR_95%': (f1ppR_interval[1]-f1ppR_interval[0])/2., \\\n",
    "            'df1pBW': f1pBW_values[0]-f1pBW0, 'f1pBW_std': f1pBW_values[1], 'f1pBW_95%': (f1pBW_interval[1]-f1pBW_interval[0])/2., \\\n",
    "             } , dtype = 'float')\n",
    "        petriTable = pd.concat([petriTable,df])\n",
    "        print( numberNew)\n",
    "    return petriTable"
   ],
   "metadata": {
    "collapsed": false
   }
  },
  {
   "cell_type": "code",
   "execution_count": null,
   "outputs": [],
   "source": [
    "res_VL = spd_init[0].shape[0]\n",
    "uSPD=np.zeros(res_VL)\n",
    "uSPD[:]=0.01"
   ],
   "metadata": {
    "collapsed": false
   }
  },
  {
   "cell_type": "code",
   "execution_count": null,
   "outputs": [],
   "source": [
    "print( 'FourierTableP')\n",
    "petriTableP=FourierTableP(100, spd_init[0], spd_init[1], uSPD)\n",
    "petriTableP\n",
    "petriTableP.to_excel(get_fig_file_name(dir=out_dir, filename='FourierP.xlsx', table=True))"
   ],
   "metadata": {
    "collapsed": false
   }
  },
  {
   "cell_type": "code",
   "execution_count": null,
   "outputs": [],
   "source": [
    "[f1pOrg, _]=py_f1PrimeG(spd_init[0], spd_init[1], strObserver='1931_2', iObserverOffset = 1, strWeighting='A', iMin=0, dCutOff=0., dBandWidth=0.)\n",
    "print('f1pOrg=', f1pOrg)\n",
    "\n",
    "print( 'FourierTablef1p')\n",
    "petriTable=FourierTablef1p(100, spd_init[0], spd_init[1], uSPD)\n",
    "petriTable\n",
    "petriTable.to_excel(get_fig_file_name(dir=out_dir, filename='Fourierf1p.xlsx', table=True))"
   ],
   "metadata": {
    "collapsed": false
   }
  },
  {
   "cell_type": "code",
   "execution_count": null,
   "outputs": [],
   "source": [],
   "metadata": {
    "collapsed": false
   }
  },
  {
   "cell_type": "code",
   "execution_count": null,
   "outputs": [],
   "source": [
    "fig, ax1 = pyplot.subplots(figsize=(10,7))\n",
    "petriTable.plot.scatter(x=\"N\", y=\"df1p\", marker='o', color=\"Red\", label=\"$\\Delta f_{1}^{´}$\", ax=ax1)\n",
    "petriTable.plot.scatter(x=\"N\", y=\"df1pE\", marker='x', color=\"Red\", label=\"$\\Delta f_{1,\\mathrm{E}}^{´}$\", ax=ax1)\n",
    "petriTable.plot.scatter(x=\"N\", y=\"df1pL\", marker='1', color=\"Red\", label=\"$\\Delta f_{1,\\mathrm{L}}^{´}$\", ax=ax1)\n",
    "petriTable.plot.scatter(x=\"N\", y=\"df1pMin\", marker='<', color=\"Red\", label=\"$\\Delta f_{1,\\mathrm{Min}}^{´}$\", ax=ax1)\n",
    "petriTable.plot.scatter(x=\"N\", y=\"df1ppR\", marker='>', color=\"Blue\", label=\"$\\Delta f_{1,\\mathrm{R}}^{´´}$\", ax=ax1)\n",
    "petriTable.plot.scatter(x=\"N\", y=\"df1pBW\", marker='2', color=\"Blue\", label=\"$\\Delta f_{1,\\mathrm{BW}}^{´}$\", ax=ax1)\n",
    "ax1.set_xlabel('$N_{\\mathrm{B}}$', fontsize=label_font_size)\n",
    "ax1.set_ylabel('$\\Delta f_{1}^{´}, \\Delta f_{1,\\mathrm{E}}^{´}, \\Delta f_{1,\\mathrm{L}}^{´},  \\Delta f_{1,\\mathrm{Min}}^{´}, \\Delta f_{1,\\mathrm{R}}^{´´}, \\Delta f_{1,\\mathrm{BW}}^{´} $', fontsize=label_font_size)\n",
    "ax1.set_xlim([0,50])\n",
    "\n",
    "save_fig(dir=out_dir, filename='f1pTableFourier')\n"
   ],
   "metadata": {
    "collapsed": false
   }
  },
  {
   "cell_type": "code",
   "execution_count": null,
   "outputs": [],
   "source": [
    "fig, ax1 = pyplot.subplots(figsize=(10,7))\n",
    "petriTable.plot.scatter(x=\"N\", y=\"f1p_95%\", marker='o', color=\"Red\", label=\"U($f_{1}^{´})$\", ax=ax1)\n",
    "petriTable.plot.scatter(x=\"N\", y=\"f1pE_95%\", marker='x', color=\"Red\", label=\"U($f_{1, \\mathrm{E}}^{´})$\", ax=ax1)\n",
    "petriTable.plot.scatter(x=\"N\", y=\"f1pL_95%\", marker='1', color=\"Red\", label=\"$U(f_{1,\\mathrm{L}}^{´})$\", ax=ax1)\n",
    "petriTable.plot.scatter(x=\"N\", y=\"f1pMin_95%\", marker='<', color=\"Red\", label=\"U($f_{1, \\mathrm{Min}}^{´})$\", ax=ax1)\n",
    "petriTable.plot.scatter(x=\"N\", y=\"f1ppR_95%\", marker='>', color=\"Blue\", label=\"$U(f_{1,\\mathrm{R}}^{´´})$\", ax=ax1)\n",
    "petriTable.plot.scatter(x=\"N\", y=\"f1pBW_95%\", marker='2', color=\"Blue\", label=\"$U(f_{1,\\mathrm{BW}}^{´})$\", ax=ax1)\n",
    "ax1.set_xlabel('$N_{\\mathrm{B}}$', fontsize=label_font_size)\n",
    "ax1.set_ylabel('$U(f_{1}^{´}), U(f_{1,\\mathrm{E}}^{´}), U(f_{1,\\mathrm{L}}^{´}),  U(f_{1,\\mathrm{Min}}^{´}), U(f_{1,\\mathrm{R}}^{´´}), U(f_{1,\\mathrm{BW}}^{´})$', fontsize=label_font_size)\n",
    "ax1.set_xlim([0,50])\n",
    "\n",
    "save_fig(dir=out_dir, filename='Uf1pTableFourier')"
   ],
   "metadata": {
    "collapsed": false
   }
  },
  {
   "cell_type": "code",
   "execution_count": null,
   "outputs": [],
   "source": [
    "fig, ax1 = pyplot.subplots(figsize=(10,7))\n",
    "#petriTableP.plot.scatter(x=\"N\", y=\"dL_mean\", marker='o', color=\"Red\", label=\"$\\Delta Y$\", ax=ax1)\n",
    "petriTableP.plot.scatter(x=\"N\", y=\"dx_mean\", marker='x', color=\"Red\", label=\"$\\Delta x$\", ax=ax1)\n",
    "petriTableP.plot.scatter(x=\"N\", y=\"dy_mean\", marker='1', color=\"Red\", label=\"$\\Delta y$\", ax=ax1)\n",
    "ax2 = ax1.twinx()\n",
    "petriTableP.plot.scatter(x=\"N\", y=\"dCCT_mean\", marker='<', color=\"Red\", label=\"$\\Delta CCT$\", ax=ax2)\n",
    "ax1.set_xlabel('$N_{\\mathrm{B}}$', fontsize=label_font_size)\n",
    "ax1.set_ylabel('$\\Delta Y, \\Delta x, \\Delta y, \\Delta CCT $', fontsize=label_font_size)\n",
    "ax1.set_xlim([0,50])\n",
    "\n",
    "save_fig(dir=out_dir, filename='PTableFourier')\n"
   ],
   "metadata": {
    "collapsed": false
   }
  },
  {
   "cell_type": "code",
   "execution_count": null,
   "outputs": [],
   "source": [
    "fig, ax1 = pyplot.subplots(figsize=(10,7))\n",
    "#petriTableP.plot.scatter(x=\"N\", y=\"L_std\", marker='o', color=\"Red\", label=\"$u(Y)$\", ax=ax1)\n",
    "petriTableP.plot.scatter(x=\"N\", y=\"x_std\", marker='x', color=\"Red\", label=\"$u(x)$\", ax=ax1)\n",
    "petriTableP.plot.scatter(x=\"N\", y=\"y_std\", marker='1', color=\"Red\", label=\"$u(y)$\", ax=ax1)\n",
    "ax2 = ax1.twinx()\n",
    "petriTableP.plot.scatter(x=\"N\", y=\"CCT_std\", marker='<', color=\"Red\", label=\"$u(CCT)$\", ax=ax2)\n",
    "\n",
    "ax1.set_xlabel('$N_{\\mathrm{B}}$', fontsize=label_font_size)\n",
    "ax1.set_ylabel('$U(f_{1}^{´}), U(f_{1,\\mathrm{E}}^{´}), U(f_{1,\\mathrm{L}}^{´}),  U(f_{1,\\mathrm{Min}}^{´}), U(f_{1,\\mathrm{R}}^{´´}), U(f_{1,\\mathrm{BW}}^{´})$', fontsize=label_font_size)\n",
    "ax1.set_xlim([0,50])\n",
    "\n",
    "save_fig(dir=out_dir, filename='UPTableFourier')\n"
   ],
   "metadata": {
    "collapsed": false
   }
  }
 ],
 "metadata": {
  "kernelspec": {
   "name": "pycharm-3cda3c41",
   "language": "python",
   "display_name": "PyCharm (empir19nrm02)"
  },
  "language_info": {
   "codemirror_mode": {
    "name": "ipython",
    "version": 3
   },
   "file_extension": ".py",
   "mimetype": "text/x-python",
   "name": "python",
   "nbconvert_exporter": "python",
   "pygments_lexer": "ipython3",
   "version": "3.8.8"
  }
 },
 "nbformat": 4,
 "nbformat_minor": 5
}
