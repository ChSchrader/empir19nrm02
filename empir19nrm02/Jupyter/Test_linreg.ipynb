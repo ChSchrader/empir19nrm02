{
 "cells": [
  {
   "cell_type": "markdown",
   "source": [
    "# Test linear Regression\n",
    "- MC Simulation\n",
    "- Matus05 https://doi.org/10.1524/teme.2005.72.10_2005.584\n",
    "- s(k) and u(k) behaviour\n"
   ],
   "metadata": {
    "collapsed": false,
    "pycharm": {
     "name": "#%% md\n"
    }
   }
  },
  {
   "cell_type": "code",
   "execution_count": 1,
   "metadata": {
    "collapsed": true,
    "pycharm": {
     "name": "#%%\n"
    }
   },
   "outputs": [],
   "source": [
    "import numpy as np\n",
    "from numpy import ndarray\n",
    "from matplotlib import pyplot\n",
    "import scipy.stats as stats\n",
    "\n",
    "from empir19nrm02.tools import draw_values_gum, label_font_size, sumMC, save_fig"
   ]
  },
  {
   "cell_type": "code",
   "execution_count": 2,
   "outputs": [],
   "source": [
    "from scipy.stats import linregress\n",
    "from dataclasses import dataclass\n",
    "\n",
    "@dataclass\n",
    "class RegResults:\n",
    "    slope: float\n",
    "    intercept: float\n",
    "    r_value: float\n",
    "    s_slope: float\n",
    "    u_slope: float\n",
    "\n",
    "def getLinRegOLS(x:ndarray,y:ndarray,ux:ndarray|float=None,uy:ndarray|float=None)-> RegResults:\n",
    "    slope, intercept, r_value, p_value, std_err = linregress(x,y)\n",
    "    return RegResults(slope, intercept, r_value, std_err, 0)\n",
    "\n",
    "# Matus05 https://doi.org/10.1524/teme.2005.72.10_2005.584\n",
    "\n",
    "def getLinRegOLSMatus(x:ndarray,y:ndarray,ux:ndarray|float,uy:ndarray|float):\n",
    "    slope, intercept, r_value, p_value, std_err = linregress(x,y)\n",
    "    x_mean = np.mean(x)\n",
    "    y_mean = np.mean(y)\n",
    "    Sxx = np.sum((x-x_mean)*(x-x_mean))\n",
    "    cx = ((y-y_mean)-2*slope*(x-x_mean))/Sxx\n",
    "    cy = (x-x_mean)/Sxx\n",
    "    usq_k = np.sum(cx**2*ux**2)+np.sum(cy**2*uy**2)\n",
    "    return RegResults(slope, intercept, r_value, std_err, np.sqrt(usq_k))\n",
    "\n",
    "def plotLinReg(x:ndarray,y:ndarray,ux:ndarray|float=None,uy:ndarray|float=None, type=['xy', 'regline', 'uy']):\n",
    "    if 'xy' in type:\n",
    "        pyplot.plot(x,y, 'rx', label='Measurements')\n",
    "    res = getLinRegOLS(x,y)\n",
    "    if 'regline' in type:\n",
    "        pyplot.plot(x,res.slope*x+res.intercept, 'g-', label='RegLine')\n",
    "    if 'uy' in type:\n",
    "        pyplot.errorbar(x,y, yerr=uy, fmt='none')\n",
    "    if 'ux' in type:\n",
    "        pyplot.errorbar(x,y, xerr=ux, fmt='none')\n",
    "    pyplot.xlabel('x', fontsize=label_font_size)\n",
    "    pyplot.ylabel('x', fontsize=label_font_size)\n",
    "    pyplot.legend()\n",
    "\n",
    "def evalLinReg(x,y,ux,uy):\n",
    "    plotLinReg(x,y, ux=ux, uy=uy, type=['xy', 'regline', 'uy'])\n",
    "    resOLS = getLinRegOLS(x,y)\n",
    "    resMatus_loc = getLinRegOLSMatus(x,y,ux,uy)\n",
    "    pyplot.text(6,10, 's(k)='+str(round(resOLS.s_slope,3)),fontsize=label_font_size)\n",
    "    pyplot.text(6,8, 'u(k)='+str(round(resMatus_loc.u_slope,3)),fontsize=label_font_size)\n",
    "    print( 'getLinRegOLS:', resOLS)\n",
    "    print( 'getLinRegOLSMatus:', resMatus_loc)\n",
    "    return resMatus_loc"
   ],
   "metadata": {
    "collapsed": false,
    "pycharm": {
     "name": "#%%\n"
    }
   }
  },
  {
   "cell_type": "markdown",
   "source": [
    "## s(k) and u(k) behaviour"
   ],
   "metadata": {
    "collapsed": false,
    "pycharm": {
     "name": "#%% md\n"
    }
   }
  },
  {
   "cell_type": "code",
   "execution_count": 3,
   "outputs": [
    {
     "name": "stdout",
     "output_type": "stream",
     "text": [
      "getLinRegOLS: RegResults(slope=3.00457235421389, intercept=0.27613548058987547, r_value=0.9858164492040078, s_slope=0.17050117952335528, u_slope=0)\n",
      "getLinRegOLSMatus: RegResults(slope=3.00457235421389, intercept=0.27613548058987547, r_value=0.9858164492040078, s_slope=0.17050117952335528, u_slope=0.18619319808821966)\n"
     ]
    },
    {
     "data": {
      "text/plain": "<Figure size 432x288 with 1 Axes>",
      "image/png": "[encoded data removed]"
     },
     "metadata": {
      "needs_background": "light"
     },
     "output_type": "display_data"
    }
   ],
   "source": [
    "x = np.linspace(0,10,11)\n",
    "y0 =3*x\n",
    "y = y0+draw_values_gum(mean=0, stddev=2, draws=x.shape[0], distribution=\"normal\")\n",
    "ux = 0\n",
    "uy = 0.1*y\n",
    "\n",
    "resMatus = evalLinReg(x,y,ux,uy)\n",
    "save_fig(dir='Poly', filename='LinReg')"
   ],
   "metadata": {
    "collapsed": false,
    "pycharm": {
     "name": "#%%\n"
    }
   }
  },
  {
   "cell_type": "markdown",
   "source": [
    "## MC to compare with Matus"
   ],
   "metadata": {
    "collapsed": false,
    "pycharm": {
     "name": "#%% md\n"
    }
   }
  },
  {
   "cell_type": "code",
   "execution_count": 4,
   "outputs": [
    {
     "name": "stdout",
     "output_type": "stream",
     "text": [
      "k: [[3.0062261068001788, 0.18452895268725222], [2.6536866431799875, 3.370156233537029]]\n",
      "u(k):Result from Matus: 0.18619319808821966\n",
      "u(k): Result from MC: 0.18452895268725222\n",
      "s(k): Result from OLS: 0.17050117952335528\n"
     ]
    }
   ],
   "source": [
    "from numpy.random import default_rng\n",
    "\n",
    "rng = default_rng()\n",
    "\n",
    "trials = 1000\n",
    "\n",
    "k_res = np.zeros(trials)\n",
    "x_draw = uy.copy()\n",
    "x_draw[:] = 0\n",
    "\n",
    "for i in range(trials):\n",
    "    rand = rng.standard_normal(x.shape[0])\n",
    "    y_mc = y0 + uy*rand\n",
    "    res = getLinRegOLS(x, y_mc)\n",
    "    k_res[i] = res.slope\n",
    "\n",
    "resMC = sumMC(k_res)\n",
    "print ( 'k:', resMC)\n",
    "\n",
    "print('u(k):Result from Matus:', resMatus.u_slope)\n",
    "print('u(k): Result from MC:', resMC[0][1])\n",
    "print('s(k): Result from OLS:', resMatus.s_slope)\n"
   ],
   "metadata": {
    "collapsed": false,
    "pycharm": {
     "name": "#%%\n"
    }
   }
  },
  {
   "cell_type": "code",
   "execution_count": 4,
   "outputs": [],
   "source": [],
   "metadata": {
    "collapsed": false,
    "pycharm": {
     "name": "#%%\n"
    }
   }
  },
  {
   "cell_type": "markdown",
   "source": [
    "## Perfect Mode (s(k)=0)"
   ],
   "metadata": {
    "collapsed": false,
    "pycharm": {
     "name": "#%% md\n"
    }
   }
  },
  {
   "cell_type": "code",
   "execution_count": 5,
   "outputs": [
    {
     "name": "stdout",
     "output_type": "stream",
     "text": [
      "getLinRegOLS: RegResults(slope=3.0, intercept=0.0, r_value=1.0, s_slope=0.0, u_slope=0)\n",
      "getLinRegOLSMatus: RegResults(slope=3.0, intercept=0.0, r_value=1.0, s_slope=0.0, u_slope=0.18619319808821966)\n"
     ]
    },
    {
     "data": {
      "text/plain": "<Figure size 432x288 with 1 Axes>",
      "image/png": "[encoded data removed]"
     },
     "metadata": {
      "needs_background": "light"
     },
     "output_type": "display_data"
    }
   ],
   "source": [
    "uy = 0.1*y\n",
    "resMatus = evalLinReg(x,y0,ux,uy)\n",
    "save_fig(dir='Poly', filename='LinRegs0')"
   ],
   "metadata": {
    "collapsed": false,
    "pycharm": {
     "name": "#%%\n"
    }
   }
  },
  {
   "cell_type": "markdown",
   "source": [
    "## No Uncertainty but not a perfect match u(k)=0"
   ],
   "metadata": {
    "collapsed": false,
    "pycharm": {
     "name": "#%% md\n"
    }
   }
  },
  {
   "cell_type": "code",
   "execution_count": 6,
   "outputs": [
    {
     "name": "stdout",
     "output_type": "stream",
     "text": [
      "getLinRegOLS: RegResults(slope=3.00457235421389, intercept=0.27613548058987547, r_value=0.9858164492040078, s_slope=0.17050117952335528, u_slope=0)\n",
      "getLinRegOLSMatus: RegResults(slope=3.00457235421389, intercept=0.27613548058987547, r_value=0.9858164492040078, s_slope=0.17050117952335528, u_slope=0.0)\n"
     ]
    },
    {
     "data": {
      "text/plain": "<Figure size 432x288 with 1 Axes>",
      "image/png": "[encoded data removed]"
     },
     "metadata": {
      "needs_background": "light"
     },
     "output_type": "display_data"
    }
   ],
   "source": [
    "uy = 0*y\n",
    "resMatus = evalLinReg(x,y,ux,uy)\n",
    "save_fig(dir='Poly', filename='LinRegk0')"
   ],
   "metadata": {
    "collapsed": false,
    "pycharm": {
     "name": "#%%\n"
    }
   }
  }
 ],
 "metadata": {
  "kernelspec": {
   "display_name": "Python 3",
   "language": "python",
   "name": "python3"
  },
  "language_info": {
   "codemirror_mode": {
    "name": "ipython",
    "version": 2
   },
   "file_extension": ".py",
   "mimetype": "text/x-python",
   "name": "python",
   "nbconvert_exporter": "python",
   "pygments_lexer": "ipython2",
   "version": "2.7.6"
  }
 },
 "nbformat": 4,
 "nbformat_minor": 0
}