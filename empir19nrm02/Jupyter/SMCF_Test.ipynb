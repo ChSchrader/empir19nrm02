{
 "cells": [
  {
   "cell_type": "markdown",
   "source": [
    "# SMCF Test\n",
    "## SMCF Calculation and MU\n",
    "## SMCF evaluation for Color Sensors"
   ],
   "metadata": {
    "collapsed": false
   }
  },
  {
   "cell_type": "code",
   "execution_count": 1,
   "metadata": {
    "collapsed": true
   },
   "outputs": [
    {
     "name": "stdout",
     "output_type": "stream",
     "text": [
      "Version of luxpy: v1.10.0\n",
      "CWD: E:\\TTBV\\Python\\empir19nrm02\\empir19nrm02\\Jupyter\n"
     ]
    }
   ],
   "source": [
    "from scipy import rand\n",
    "\n",
    "# temp import only\n",
    "from empir19nrm02.tools.help import strd, label_font_size, plot_cmf2, save_fig, get_target, label_management, \\\n",
    "    quantil, display_responsivity\n",
    "\n",
    "#%run -i jhelp\n",
    "\n",
    "\n",
    "import luxpy as lx\n",
    "import numpy as np\n",
    "from matplotlib import pyplot\n",
    "from sklearn.linear_model import LinearRegression\n",
    "\n",
    "from empir19nrm02.f1prime import py_f1PrimeGlx\n",
    "from empir19nrm02.tools import plotCorrMatrixSmall\n",
    "%matplotlib inline\n",
    "from luxpy import _CMF, plot_spectrum_colors, _CIE_ILLUMINANTS\n",
    "from luxpy.color.utils import plot_cmfs, plot_color_data\n",
    "from luxpy.toolboxes.photbiochem import _BLH, Km_correction_factor\n",
    "from luxpy.toolboxes.photbiochem import _ACTIONSPECTRA_CIES026\n",
    "from luxpy.toolboxes.indvcmf import add_to_cmf_dict\n",
    "from luxpy.spectrum import spd_to_xyz\n",
    "\n",
    "from empir19nrm02 import _SPD, _RES\n",
    "from empir19nrm02.tools import  plot_2D, plotCorrMatrixSmall\n",
    "from empir19nrm02.tools.help import display_color_diagram, display_spectra\n",
    "from empir19nrm02.MC import McVar, DistributionParam, NameUnit, MCVectorVar, generate_FourierMC0, py_getBaseFunctions\n",
    "\n",
    "print('Version of luxpy:', lx.__version__)\n",
    "out_dir = 'SMCF_Test'\n",
    "\n",
    "import os\n",
    "print( 'CWD:', os.getcwd())"
   ]
  },
  {
   "cell_type": "code",
   "execution_count": null,
   "outputs": [],
   "source": [
    "_name = 'XDetectors'\n",
    "_detectors=_RES[_name]['S']['data'].copy()\n",
    "XNorm, f1pX = display_responsivity(_name, _detectors, cieobs='1931_2', s_target_index=1, out_dir=out_dir)"
   ],
   "metadata": {
    "collapsed": false
   }
  },
  {
   "cell_type": "code",
   "execution_count": null,
   "outputs": [],
   "source": [
    "_name = 'YDetectors'\n",
    "_detectors=_RES[_name]['S']['data'].copy()\n",
    "YNorm, f1pY = display_responsivity(_name, _detectors, cieobs='1931_2', s_target_index=2, out_dir=out_dir)"
   ],
   "metadata": {
    "collapsed": false
   }
  },
  {
   "cell_type": "code",
   "execution_count": null,
   "outputs": [],
   "source": [
    "_name = 'ZDetectors'\n",
    "_detectors=_RES[_name]['S']['data'].copy()\n",
    "ZNorm, f1pZ = display_responsivity(_name, _detectors, cieobs='1931_2', s_target_index=3, out_dir=out_dir)"
   ],
   "metadata": {
    "collapsed": false
   }
  },
  {
   "cell_type": "code",
   "execution_count": null,
   "outputs": [],
   "source": [
    "detectors_color = np.zeros((3,XNorm.shape[0], XNorm.shape[1]))\n",
    "detectors_color[0] = XNorm.copy()\n",
    "detectors_color[1] = YNorm.copy()\n",
    "detectors_color[2] = ZNorm.copy()\n"
   ],
   "metadata": {
    "collapsed": false
   }
  },
  {
   "cell_type": "code",
   "execution_count": null,
   "outputs": [],
   "source": [
    "#spd = 'MONOLED'\n",
    "spd = 'PHOTOLED'\n",
    "\n",
    "_spectra=lx.cie_interp( _SPD[spd]['S']['data'], wl_new=detectors_color[0,0,:], kind = 'S')\n",
    "\n",
    "display_spectra( spd, _spectra, curvenumber=10)\n",
    "save_fig(out_dir, spd + '_spectra')\n",
    "\n",
    "display_color_diagram(spd, _spectra,cspace='Yxy')\n",
    "save_fig(out_dir, spd + '_xy')\n",
    "\n",
    "display_color_diagram(spd, _spectra,cspace='Yuv76')\n",
    "save_fig(out_dir, spd + '_uv76')"
   ],
   "metadata": {
    "collapsed": false
   }
  },
  {
   "cell_type": "code",
   "execution_count": null,
   "outputs": [],
   "source": [
    "g_S_C_ref = None\n",
    "g_S_Z_ref = None\n",
    "g_s_detector_ref = None\n",
    "\n",
    "def smcf_set_ref( _S_C_ref, _S_Z_ref, _s_detector_ref):\n",
    "    global g_S_C_ref, g_S_Z_ref, g_s_detector_ref\n",
    "\n",
    "    if isinstance(_S_C_ref,str):\n",
    "        g_S_C_ref = _CIE_ILLUMINANTS[_S_C_ref].copy()\n",
    "    else:\n",
    "        if isinstance(_S_C_ref, SPD):\n",
    "            g_S_C_ref = np.vstack( (_S_C_ref.wl, _S_C_ref.value))\n",
    "        else:\n",
    "            g_S_C_ref = _S_C_ref.copy()\n",
    "\n",
    "    if isinstance(_S_Z_ref,str):\n",
    "        g_S_Z_ref = _CIE_ILLUMINANTS[_S_Z_ref].copy()\n",
    "    else:\n",
    "        if isinstance(_S_Z_ref, SPD):\n",
    "            g_S_Z_ref = np.vstack( (_S_Z_ref.wl, _S_Z_ref.value))\n",
    "        else:\n",
    "            g_S_Z_ref = _S_Z_ref.copy()\n",
    "    if isinstance(_S_Z_ref, SPD):\n",
    "        g_s_detector_ref = np.vstack( (_s_detector_ref.wl, _s_detector_ref.value))\n",
    "    else:\n",
    "        g_s_detector_ref = _s_detector_ref.copy()\n",
    "    return\n",
    "\n",
    "def smcf_calculation( S_Z, s_detector, S_C='A', cieobs='1931_2', s_target_index=2, interp_kind = 'S', use_ref = False, use_global_ref = False):\n",
    "\n",
    "    # Get illuminant:\n",
    "    if isinstance(S_C,str): S_C = _CIE_ILLUMINANTS[S_C].copy()\n",
    "\n",
    "    s_target = _CMF[cieobs]['bar'][[0,s_target_index]].copy() if isinstance(cieobs, str) else cieobs[[0,s_target_index]].copy()\n",
    "\n",
    "    wlr = s_detector[0] # get wavelength range from the detector data\n",
    "    dl = lx.getwld(wlr) # wavelength differences (unequal wavelength spacings are taken into account)\n",
    "    dl = dl*np.ones_like(wlr) # ensure array like for matrix multiplication\n",
    "\n",
    "    # Interpolate measured spectrum to desired wavelength range:\n",
    "    s_target = lx.cie_interp(s_target, wlr, kind = interp_kind)[1:]\n",
    "    S_C = lx.cie_interp(S_C, wlr, kind = interp_kind)[1:]\n",
    "    S_Z = lx.cie_interp(S_Z, wlr, kind = interp_kind)[1:]\n",
    "    s_detector = s_detector[1:]\n",
    "\n",
    "    # taking the first information as reference\n",
    "    if use_ref:\n",
    "        if use_global_ref:\n",
    "            S_C_ref = lx.cie_interp(g_S_C_ref, wlr, kind = interp_kind)[1:]\n",
    "            S_Z_ref = lx.cie_interp(g_S_Z_ref, wlr, kind = interp_kind)[1:]\n",
    "            s_detector_ref = lx.cie_interp(g_s_detector_ref, wlr, kind = interp_kind)[1:]\n",
    "            S_C_ref = np.tile(S_C_ref[0],(S_C.shape[0],1))\n",
    "            S_Z_ref = np.tile(S_Z_ref[0],(S_Z.shape[0],1))\n",
    "            s_detector_ref = np.tile(s_detector_ref[0],(s_detector.shape[0],1))\n",
    "        else:\n",
    "            S_C_ref = np.tile(S_C[0],(S_C.shape[0],1))\n",
    "            S_Z_ref = np.tile(S_Z[0],(S_Z.shape[0],1))\n",
    "            s_detector_ref = np.tile(s_detector[0],(s_detector.shape[0],1))\n",
    "    else:\n",
    "        S_C_ref = S_C\n",
    "        S_Z_ref = S_Z\n",
    "        s_detector_ref = s_detector\n",
    "\n",
    "    use_luxpy = False\n",
    "    if use_luxpy:\n",
    "        # Calculate s_rel:\n",
    "        s_rel = (s_target @ (S_C_ref*dl).T) / (s_detector_ref @ (S_C*dl).T) * s_detector\n",
    "        # Calculate spectral mismatch correction factors:\n",
    "        F = (S_Z_ref @ (s_target*dl).T) / (S_Z @ (s_rel*dl).T)\n",
    "    else:\n",
    "        # Calculate spectral mismatch correction factors:\n",
    "        F1 = (S_Z_ref @ (s_target*dl).T) / (S_Z @ (s_detector*dl).T)\n",
    "        F2 = (S_C_ref @ (s_target*dl).T) / (S_C @ (s_detector_ref*dl).T)\n",
    "        F = F1/F2\n",
    "\n",
    "    return F"
   ],
   "metadata": {
    "collapsed": false
   }
  },
  {
   "cell_type": "code",
   "execution_count": null,
   "outputs": [],
   "source": [
    "SMCF_A = np.zeros((3,_spectra.shape[0]-1, detectors_color.shape[1]-1))\n",
    "SMCF_L41 = np.zeros((3,_spectra.shape[0]-1, detectors_color.shape[1]-1))\n",
    "for i in range(3):\n",
    "    #SMCF_A[i]=lx.spectral_mismatch_and_uncertainty.get_spectral_mismatch_correction_factors( _spectra, detectors_color[i], S_C='A', cieobs='1931_2', s_target_index=i+1)\n",
    "    #SMCF_L41[i]=lx.spectral_mismatch_and_uncertainty.get_spectral_mismatch_correction_factors( _spectra, detectors_color[i], S_C='LED_L41', cieobs='1931_2', s_target_index=i+1)\n",
    "    SMCF_A[i]=smcf_calculation( _spectra, detectors_color[i], S_C='A', cieobs='1931_2', s_target_index=i+1)\n",
    "    SMCF_L41[i]=smcf_calculation( _spectra, detectors_color[i], S_C='LED_L41', cieobs='1931_2', s_target_index=i+1)"
   ],
   "metadata": {
    "collapsed": false
   }
  },
  {
   "cell_type": "code",
   "execution_count": null,
   "outputs": [],
   "source": [
    "from mpl_toolkits.axes_grid1 import make_axes_locatable\n",
    "\n",
    "def SMCF_plot( _smcfData, calib='A', name='SMCF'):\n",
    "    fig, ax1 = pyplot.subplots(figsize=(7,7))\n",
    "    im1 = ax1.imshow(_smcfData, aspect='auto',\n",
    "                    #extent=[wl_scale[0], wl_scale[-1], wl_scale[-1], wl_scale[0]],\n",
    "                    cmap=\"jet\", interpolation=\"nearest\")\n",
    "    divider = make_axes_locatable(ax1)\n",
    "    cax = divider.append_axes('right', size='5%', pad=0.05)\n",
    "    fig.colorbar(im1, cax=cax, orientation='vertical')\n",
    "    ax1.set_title(name)\n",
    "    ax1.set_xlabel('Detector#', fontsize=label_font_size)\n",
    "    ax1.set_ylabel('SD#', fontsize=label_font_size)"
   ],
   "metadata": {
    "collapsed": false
   }
  },
  {
   "cell_type": "code",
   "execution_count": null,
   "outputs": [],
   "source": [
    "SMCF_plot(SMCF_A[0], calib='A', name='SMCF')\n",
    "SMCF_plot(SMCF_A[0][0:10, :], calib='A', name='SMCF')\n",
    "save_fig(out_dir, 'SMCFA_img')"
   ],
   "metadata": {
    "collapsed": false
   }
  },
  {
   "cell_type": "code",
   "execution_count": null,
   "outputs": [],
   "source": [
    "SMCF_plot(SMCF_L41[0], calib='L41', name='SMCF')\n",
    "SMCF_plot(SMCF_L41[0][0:10, :], calib='L41', name='SMCF')\n",
    "save_fig(out_dir, 'SMCFL41_img')"
   ],
   "metadata": {
    "collapsed": false
   }
  },
  {
   "cell_type": "code",
   "execution_count": null,
   "outputs": [],
   "source": [
    "channels = detectors_color.shape[0]\n",
    "# 0 is the wavellength scale, 1 is the ideal detector\n",
    "detectorItem = 2\n",
    "# 0 is the wavelenght scale, 1 is StdIllA, 2 is L41\n",
    "SDItem = 2\n",
    "\n",
    "if detectorItem == 0 or SDItem == 0:\n",
    "    print( 'Error # 0 is not a detector or SD. This is the wavelength scale')\n",
    "\n",
    "#calibSD = 'A'\n",
    "calibSD = 'LED_L41'\n",
    "SMCFColor = np.zeros(channels)\n",
    "\n",
    "for i in range( channels):\n",
    "    SMCFColor[i]=lx.spectral_mismatch_and_uncertainty.get_spectral_mismatch_correction_factors(\n",
    "        np.vstack( (_spectra[0], _spectra[SDItem])),\n",
    "        np.vstack( (detectors_color[i, 0], detectors_color[i, detectorItem])),\n",
    "        S_C=calibSD, cieobs='1931_2', s_target_index=i+1)\n",
    "\n",
    "print( SMCFColor)"
   ],
   "metadata": {
    "collapsed": false
   }
  },
  {
   "cell_type": "code",
   "execution_count": null,
   "outputs": [],
   "source": [
    "from empir19nrm02.tools import plot_2D\n",
    "from luxpy import SPD\n",
    "from empir19nrm02.MC.MCSim import MCVectorVar, McInputVar, McOutputVar, NameUnit, DistributionParam, McOutputVar, McSim, McSpectrumVar, noise_list_default\n",
    "from empir19nrm02.tools import sumMC"
   ],
   "metadata": {
    "collapsed": false
   }
  },
  {
   "cell_type": "code",
   "execution_count": null,
   "outputs": [],
   "source": [
    "SMCF = McOutputVar(name=NameUnit('SMCF', '1'))\n",
    "NumberTrials = 10000\n",
    "ch = 1\n",
    "detectorSPD = lx.SPD( spd=np.vstack((detectors_color[ch, 0], detectors_color[ch, detectorItem])/np.max(detectors_color[ch, detectorItem])),ax0iswl=True)\n",
    "spectrumSPD = lx.SPD( spd=np.vstack((_spectra[0], _spectra[SDItem]/np.max(_spectra[SDItem]))),ax0iswl=True)\n",
    "\n",
    "detectorSPD.plot()\n",
    "spectrumSPD.plot()\n",
    "save_fig(out_dir, 'Sample_Distribution')"
   ],
   "metadata": {
    "collapsed": false
   }
  },
  {
   "cell_type": "code",
   "execution_count": null,
   "outputs": [],
   "source": [],
   "metadata": {
    "collapsed": false
   }
  },
  {
   "cell_type": "markdown",
   "source": [
    "## Evaluate the noise sensitivity"
   ],
   "metadata": {
    "collapsed": false
   }
  },
  {
   "cell_type": "code",
   "execution_count": null,
   "outputs": [],
   "source": [
    "from luxpy import _CIE_ILLUMINANTS\n",
    "\n",
    "def eval_target_noise( detector = None, spectrum = None, str_target = 'target', name = 'name', S_C = 'A', cieobs = '1931_2', s_target_index=2):\n",
    "\n",
    "    if detector is None:\n",
    "        detector = np.vstack((_CMF[cieobs]['bar'][0], _CMF[cieobs]['bar'][s_target_index]))\n",
    "        detector = lx.cie_interp(detector, wl_new=np.arange(380,780+1,5), kind='S')\n",
    "    if spectrum is None:\n",
    "        spectrum = np.vstack((_CIE_ILLUMINANTS[S_C][0], _CIE_ILLUMINANTS[S_C][1]))\n",
    "        spectrum = lx.cie_interp(spectrum, wl_new=np.arange(380,780+1,5), kind='S')\n",
    "    detector[1] = detector[1] / np.max(detector[1])\n",
    "    spectrum[1] = spectrum[1] / np.max(spectrum[1])\n",
    "    _detectorsNoise = detector.copy()\n",
    "    _spectrumNoise = spectrum.copy()\n",
    "\n",
    "    for i in range(0, detector.shape[1]):\n",
    "        to_add = detector.copy()\n",
    "        to_add[1,i] += .1\n",
    "        _detectorsNoise= np.vstack((_detectorsNoise, to_add[1]))\n",
    "\n",
    "        to_add1 = spectrum.copy()\n",
    "        to_add1[1,i] += .1\n",
    "        _spectrumNoise= np.vstack((_spectrumNoise, to_add1[1]))\n",
    "\n",
    "    fig, ax1 = pyplot.subplots()\n",
    "    ax1.plot(_detectorsNoise[0], _detectorsNoise[1], 'g-', label=str_target)\n",
    "    ax1.plot(_detectorsNoise[0], _detectorsNoise[4], 'g*', label=str_target +'$ + \\Delta$')\n",
    "    ax1.plot(_spectrumNoise[0], _spectrumNoise[1], 'r-', label=str_target)\n",
    "    ax1.plot(_spectrumNoise[0], _spectrumNoise[6], 'r*', label=str_target +'$ + \\Delta$')\n",
    "    ax1.set_xlabel(strd['xlambda'], fontsize=label_font_size)\n",
    "    ax1.set_ylabel('Signal' + strd['AU'], fontsize=label_font_size)\n",
    "    ax1.set_xlim([380, 500])\n",
    "    ax1.set_ylim([0, 0.2])\n",
    "    pyplot.legend()\n",
    "    save_fig(out_dir, name + 'noiseSingle')\n",
    "\n",
    "    npSMCFDetector = smcf_calculation(spectrum, _detectorsNoise, S_C = S_C, cieobs = cieobs, s_target_index=s_target_index, use_ref = True).flatten()\n",
    "    npSMCFSpectrum = smcf_calculation(_spectrumNoise, detector, S_C = S_C, cieobs = cieobs, s_target_index=s_target_index, use_ref = True).flatten()\n",
    "\n",
    "    print( npSMCFDetector.shape)\n",
    "    print( npSMCFSpectrum.shape)\n",
    "    nsubPlot = 2\n",
    "\n",
    "    xRange = np.arange(375,780+1,5)\n",
    "\n",
    "    fig, ax1 = pyplot.subplots()\n",
    "    #ax2 = ax1.twinx()\n",
    "\n",
    "    ax1.plot(xRange[1::nsubPlot], npSMCFDetector[1::nsubPlot], 'r-', label='SMCF Detector')\n",
    "    ax1.plot(xRange[1::nsubPlot], npSMCFSpectrum[1::nsubPlot], 'g-', label='SMCF Spectrum')\n",
    "\n",
    "    ax1.set_xlabel(strd['xlambda'], fontsize=label_font_size)\n",
    "    ax1.set_ylabel('$F$', fontsize=label_font_size)\n",
    "    lines_labels = [ax.get_legend_handles_labels() for ax in fig.axes]\n",
    "    lines, labels = [sum(lol, []) for lol in zip(*lines_labels)]\n",
    "    pyplot.legend(lines, labels, bbox_to_anchor=(0.0, -0.3, 1, 0), loc='lower left',\n",
    "               ncol=7, mode=\"expand\", borderaxespad=0.)\n",
    "    save_fig(out_dir, name + 'noiseEval')"
   ],
   "metadata": {
    "collapsed": false
   }
  },
  {
   "cell_type": "code",
   "execution_count": null,
   "outputs": [],
   "source": [
    "eval_target_noise(detector = None,\n",
    "                  spectrum = None , str_target='str_target', name='name', S_C = 'L41')\n",
    "\n",
    "#eval_target_noise( detector = np.vstack( (detectors_color[1, 0], detectors_color[1, 1])),\n",
    "#                   spectrum = np.vstack( (spectrumSPD.wl, spectrumSPD.value)) , str_target='str_target', name='name', S_C = 'L41')"
   ],
   "metadata": {
    "collapsed": false
   }
  },
  {
   "cell_type": "markdown",
   "source": [],
   "metadata": {
    "collapsed": false
   }
  },
  {
   "cell_type": "markdown",
   "source": [],
   "metadata": {
    "collapsed": false
   }
  },
  {
   "cell_type": "code",
   "execution_count": null,
   "outputs": [],
   "source": [
    "def eval_target_shift( detector = None, spectrum = None, str_target = 'target', name = 'name', S_C = 'A', cieobs = '1931_2', s_target_index=2):\n",
    "    shift2min = 0\n",
    "    shift2max = 5\n",
    "    shift_steps = 0.1\n",
    "    shift_range = np.arange(shift2min, shift2max+2*shift_steps, shift_steps)\n",
    "\n",
    "    if detector is None:\n",
    "        detector = np.vstack((_CMF[cieobs]['bar'][0], _CMF[cieobs]['bar'][s_target_index]))\n",
    "        detector = lx.cie_interp(detector, wl_new=np.arange(380,780+1,5), kind='S')\n",
    "    if spectrum is None:\n",
    "        spectrum = np.vstack((_CIE_ILLUMINANTS[S_C][0], _CIE_ILLUMINANTS[S_C][1]))\n",
    "        spectrum = lx.cie_interp(spectrum, wl_new=np.arange(380,780+1,5), kind='S')\n",
    "    detector[1] = detector[1] / np.max(detector[1])\n",
    "    spectrum[1] = spectrum[1] / np.max(spectrum[1])\n",
    "\n",
    "    _detectorsShift = detector.copy()\n",
    "    _spectrumShift = spectrum.copy()\n",
    "\n",
    "    for i in shift_range:\n",
    "        wl_current = _detectors[0]+i\n",
    "        target_moved = np.vstack((wl_current, detector[1]))\n",
    "        target_interpolated = lx.cie_interp(target_moved, detector[0], negative_values_allowed=True, kind='linear')\n",
    "        _detectorsShift = np.vstack((_detectorsShift, target_interpolated[1]))\n",
    "\n",
    "        target_moved1 = np.vstack((wl_current, spectrum[1]))\n",
    "        target_interpolated1 = lx.cie_interp(target_moved1, spectrum[0], negative_values_allowed=True, kind='linear')\n",
    "        _spectrumShift = np.vstack((_spectrumShift, target_interpolated1[1]))\n",
    "\n",
    "    detectors_shift_number = _detectorsShift.shape[0]\n",
    "    pyplot.plot(_detectorsShift[0,:], _detectorsShift[2,:], 'r-', label='shift ' + str(shift2min)+ ' nm')\n",
    "    pyplot.plot(_detectorsShift[0,:], _detectorsShift[int((detectors_shift_number-1)/2),:], 'g-', label=str_target)\n",
    "    pyplot.plot(_detectorsShift[0,:], _detectorsShift[detectors_shift_number-1,:], 'b-', label='shift +' + str(shift2max)+ ' nm')\n",
    "    pyplot.xlabel(strd['xlambda'], fontsize=label_font_size)\n",
    "    pyplot.ylabel(str_target + ',' + strd['srelLambda'], fontsize=label_font_size)\n",
    "    pyplot.legend()\n",
    "    save_fig(out_dir, name + 'DetectorShiftsSingle')\n",
    "\n",
    "    spectrum_shift_number = _spectrumShift.shape[0]\n",
    "    pyplot.plot(_spectrumShift[0,:], _spectrumShift[2,:], 'r-', label='shift ' + str(shift2min)+ ' nm')\n",
    "    pyplot.plot(_spectrumShift[0,:], _spectrumShift[int((spectrum_shift_number-1)/2),:], 'g-', label=str_target)\n",
    "    pyplot.plot(_spectrumShift[0,:], _spectrumShift[spectrum_shift_number-1,:], 'b-', label='shift +' + str(shift2max)+ ' nm')\n",
    "    pyplot.xlabel(strd['xlambda'], fontsize=label_font_size)\n",
    "    pyplot.ylabel(str_target + ',' + strd['srelLambda'], fontsize=label_font_size)\n",
    "    pyplot.legend()\n",
    "    save_fig(out_dir, name + 'SpectrumShiftsSingle')\n",
    "\n",
    "    npSMCFDetector = smcf_calculation(spectrum, _detectorsShift, S_C = S_C, cieobs = cieobs, s_target_index=s_target_index, use_ref = True).flatten()\n",
    "    npSMCFSpectrum = smcf_calculation(_spectrumShift, detector, S_C = S_C, cieobs = cieobs, s_target_index=s_target_index, use_ref = True).flatten()\n",
    "\n",
    "    print( npSMCFDetector.shape)\n",
    "    print( npSMCFSpectrum.shape)\n",
    "\n",
    "    fig, ax1 = pyplot.subplots()\n",
    "    #ax2 = ax1.twinx()\n",
    "\n",
    "    xRange = shift_range\n",
    "    subPlot = 5\n",
    "    ax1.plot(xRange[1::subPlot], npSMCFDetector[1::subPlot], 'rx', label='Detector')\n",
    "    ax1.plot(xRange[1::subPlot], npSMCFSpectrum[1::subPlot], 'gx', label='Spectrum')\n",
    "\n",
    "    ax1.set_xlabel('$\\Delta\\lambda$ / nm', fontsize=label_font_size)\n",
    "    ax1.set_ylabel('F / A.U.', fontsize=label_font_size)\n",
    "    lines_labels = [ax.get_legend_handles_labels() for ax in fig.axes]\n",
    "    lines, labels = [sum(lol, []) for lol in zip(*lines_labels)]\n",
    "    pyplot.legend(lines, labels, bbox_to_anchor=(0.0, -0.2, 1, 0), loc='upper left',\n",
    "               ncol=7, mode=\"expand\", borderaxespad=0.)\n",
    "    save_fig(out_dir, name + 'ShiftsEval')"
   ],
   "metadata": {
    "collapsed": false
   }
  },
  {
   "cell_type": "code",
   "execution_count": null,
   "outputs": [],
   "source": [
    "eval_target_shift(detector = None,\n",
    "                  spectrum = None , str_target='str_target', name='name', S_C = 'L41')\n",
    "\n",
    "#eval_target_noise( detector = np.vstack( (detectors_color[1, 0], detectors_color[1, 1])),\n",
    "#                   spectrum = np.vstack( (spectrumSPD.wl, spectrumSPD.value)) , str_target='str_target', name='name', S_C = 'L41')"
   ],
   "metadata": {
    "collapsed": false
   }
  },
  {
   "cell_type": "code",
   "execution_count": null,
   "outputs": [],
   "source": [
    "def runSimpleMC( detectorMC, SMCF, NumberTrials, model_single):\n",
    "    input = [detectorMC]\n",
    "    output = [SMCF]\n",
    "\n",
    "    sim = McSim(trials=NumberTrials)\n",
    "    sim.set_input_var(input)\n",
    "    sim.set_output_var(output)\n",
    "    sim.generate()\n",
    "    sim.calculate_model( model_single)\n",
    "    return sim.output_var\n",
    "\n",
    "\n",
    "petriNumbers = 40\n",
    "uSMCF = np.zeros(petriNumbers)\n",
    "mSMCF = np.zeros(petriNumbers)\n",
    "\n",
    "\n",
    "simulationResult = {}\n",
    "for key in noise_list_default:\n",
    "    if '_f' in key:\n",
    "        simulationResult[key] =  [ np.zeros(petriNumbers), np.zeros(petriNumbers)]\n",
    "    else:\n",
    "        simulationResult[key] =  [0., 0.]\n",
    "\n",
    "\n",
    "detectorList = list()\n",
    "\n",
    "def model_single(detector):\n",
    "    # for test only\n",
    "    global  ch\n",
    "    # implementation\n",
    "    detectorList.append( detector)\n",
    "    spectmp = np.vstack( (spectrumSPD.wl, spectrumSPD.value) )\n",
    "    detectortmp = np.vstack( (detector.wl, detector.value) )\n",
    "    SMCF = smcf_calculation( spectmp, detectortmp, S_C=calibSD, cieobs='1931_2', s_target_index=ch+1, use_ref=True, use_global_ref=True)\n",
    "#    SMCF = lx.spectral_mismatch_and_uncertainty.get_spectral_mismatch_correction_factors(\n",
    "#                        spectmp, detectortmp, S_C=calibSD, cieobs='1931_2', s_target_index=ch+1)\n",
    "    # Vektoren gehen noch nicht als Rückgabe\n",
    "    return [SMCF]\n",
    "\n",
    "def plot_dist( key):\n",
    "\n",
    "    t = np.zeros((len(detectorList)+1, detectorList[0].shape[1]))\n",
    "    t[0] = detectorList[0].wl\n",
    "    for i in range(len(detectorList)):\n",
    "        t[i+1] = detectorList[i].value\n",
    "    SPD(spd=t).plot()\n",
    "    save_fig(out_dir, 'MCDistribution_' + key)\n",
    "\n",
    "# Referenz für die MC Simulation setzen\n",
    "smcf_set_ref(calibSD, spectrumSPD, detectorSPD)\n",
    "\n",
    "for key in simulationResult:\n",
    "    detectorList.clear()\n",
    "    if '_f' in key:\n",
    "        for petriNumber in range(petriNumbers):\n",
    "            match key:\n",
    "                case 'wl_f':  noise_list = { key: DistributionParam(mean=0, stddev=1, add_params=petriNumber)}\n",
    "                case 'v_f':   noise_list = { key: DistributionParam(mean=0, stddev=0.01, add_params=petriNumber)}\n",
    "            detectorMC = McSpectrumVar( name = NameUnit('Detector', 'A.U.'), spd= detectorSPD, noise_list=noise_list)\n",
    "            out = runSimpleMC( detectorMC, SMCF, NumberTrials, model_single)\n",
    "            simulationResult[key][0][petriNumber] = np.mean(out[0][0].val)\n",
    "            simulationResult[key][1][petriNumber] = np.std(out[0][0].val)\n",
    "            #plot_dist( key)\n",
    "\n",
    "    else:\n",
    "        match key:\n",
    "            case 'wl_nc': noise_list = { key: DistributionParam(mean=0, stddev=1, distribution='uniform')}\n",
    "            case 'wl_c':  noise_list = { key: DistributionParam(mean=0, stddev=1, distribution='uniform')}\n",
    "            case 'v_nc':  noise_list = { key: DistributionParam(mean=0, stddev=0.01)}\n",
    "            case 'v_c':   noise_list = { key: DistributionParam(mean=0, stddev=0.01)}\n",
    "\n",
    "        detectorMC = McSpectrumVar( name = NameUnit('Detector', 'A.U.'), spd= detectorSPD, noise_list=noise_list)\n",
    "        out = runSimpleMC( detectorMC, SMCF, NumberTrials, model_single)\n",
    "\n",
    "        simulationResult[key] = ( np.mean(out[0][0].val), np.std(out[0][0].val))\n",
    "        plot_dist( key)\n",
    "\n",
    "for key in simulationResult:\n",
    "    if not '_f' in key:\n",
    "        print( key, simulationResult[key])\n",
    "    else:\n",
    "        pos = np.where(simulationResult[key][1] == np.max(simulationResult[key][1]))\n",
    "        print( key, simulationResult[key][0][pos[0]], simulationResult[key][1][pos[0]])"
   ],
   "metadata": {
    "collapsed": false
   }
  },
  {
   "cell_type": "code",
   "execution_count": null,
   "outputs": [],
   "source": [
    "pyplot.plot(simulationResult['wl_f'][0])"
   ],
   "metadata": {
    "collapsed": false
   }
  },
  {
   "cell_type": "code",
   "execution_count": null,
   "outputs": [],
   "source": [
    "pyplot.plot(simulationResult['wl_f'][1])\n",
    "save_fig(out_dir, 'wl_f')"
   ],
   "metadata": {
    "collapsed": false
   }
  },
  {
   "cell_type": "code",
   "execution_count": null,
   "outputs": [],
   "source": [
    "pyplot.plot(simulationResult['v_f'][0])"
   ],
   "metadata": {
    "collapsed": false
   }
  },
  {
   "cell_type": "code",
   "execution_count": null,
   "outputs": [],
   "source": [
    "pyplot.plot(simulationResult['v_f'][1])\n",
    "save_fig(out_dir, 'v_f')"
   ],
   "metadata": {
    "collapsed": false
   }
  },
  {
   "cell_type": "code",
   "execution_count": null,
   "outputs": [],
   "source": [
    "break"
   ],
   "metadata": {
    "collapsed": false
   }
  },
  {
   "cell_type": "code",
   "execution_count": null,
   "outputs": [],
   "source": [
    "SMCF_out = MCVectorVar( name=NameUnit('SMCF', '1'), elements=3)\n",
    "SMCF_X = McOutputVar(name=NameUnit('SMCFX', '1'))\n",
    "SMCF_Y = McOutputVar(name=NameUnit('SMCFY', '1'))\n",
    "SMCF_Z = McOutputVar(name=NameUnit('SMCFZ', '1'))\n",
    "SMCF_2 = MCVectorVar(name=NameUnit('SMCF_2', '1'), elements=2)\n",
    "\n",
    "NumberTrials = 300\n",
    "ch = 1\n",
    "\n",
    "print(detectors_color[ch, detectorItem].shape)\n",
    "print(detectors_color[ch, 0].shape)\n",
    "# Bug in luxpy while spd is only a one spectrum and spd and wl is set separately\n",
    "detectorMC = list()\n",
    "for i in range( channels):\n",
    "    detectorSPD = lx.SPD( spd=np.vstack((detectors_color[i, 0], detectors_color[i, detectorItem])),ax0iswl=True)\n",
    "    match i:\n",
    "        case 0: detName = 'DetectorX'\n",
    "        case 1: detName = 'DetectorY'\n",
    "        case 2: detName = 'DetectorZ'\n",
    "\n",
    "    detectorMC.append( McSpectrumVar( name = NameUnit(detName, 'A.U.'), spd= detectorSPD,\n",
    "        noise_list ={\n",
    "        #'wl_nc': DistributionParam(mean=0, stddev=1, distribution='uniform'),\n",
    "        #'wl_c': DistributionParam(mean=0, stddev=10, distribution='uniform'),\n",
    "        #'wl_f': DistributionParam(mean=0, stddev=1, add_params=4),\n",
    "        #'v_nc': DistributionParam(mean=0, stddev=0.01),\n",
    "        #'v_c': DistributionParam(mean=0, stddev=0.01),\n",
    "        #'v_f': DistributionParam(mean=0, stddev=0.01, add_params=4),\n",
    "        #'all': None\n",
    "        }))\n",
    "\n",
    "spectrumSPD = lx.SPD( spd=np.vstack((_spectra[0], _spectra[SDItem])),ax0iswl=True)\n",
    "spectrumMC = McSpectrumVar( name = NameUnit('SD', 'A.U.'), spd = spectrumSPD,\n",
    "    noise_list ={\n",
    "    #'wl_nc': DistributionParam(mean=0, stddev=1, distribution='uniform'),\n",
    "    #'wl_c': DistributionParam(mean=0, stddev=10, distribution='uniform'),\n",
    "    #'wl_f': DistributionParam(mean=0, stddev=1, add_params=4),\n",
    "    #'v_nc': DistributionParam(mean=0, stddev=0.01),\n",
    "    #'v_c': DistributionParam(mean=0, stddev=0.01),\n",
    "    'v_f': DistributionParam(mean=0, stddev=0.01, add_params=4),\n",
    "    #'all': None\n",
    "    })\n",
    "\n",
    "\n",
    "specList = list()\n",
    "detectorList = list()\n",
    "for i in range(channels):\n",
    "    detectorList.append(list())\n",
    "\n",
    "modelCount = 0\n",
    "\n",
    "def model_t1(x1):\n",
    "    global  modelCount\n",
    "    print('model_t:', modelCount, x1)\n",
    "    modelCount += 1\n",
    "    return [x1]\n",
    "\n",
    "def model_t2(x1, x2):\n",
    "    global  modelCount\n",
    "    print('model_t:', modelCount, x1, x2)\n",
    "    modelCount += 1\n",
    "    return [x1, x2]\n",
    "\n",
    "def model_t(x1, x2, x3, x4):\n",
    "    global  modelCount\n",
    "    print('model_t:', modelCount, x1, x2, x3, x4)\n",
    "    modelCount += 1\n",
    "    return [x1]\n",
    "\n",
    "def model(spec, detectorX, detectorY, detectorZ):\n",
    "    # for test only\n",
    "    global  modelCount\n",
    "    #print(modelCount)\n",
    "    modelCount += 1\n",
    "    specList.append( spec)\n",
    "    for i in range(channels):\n",
    "        match i:\n",
    "            case 0: detectorList[i].append( detectorX)\n",
    "            case 1: detectorList[i].append( detectorY)\n",
    "            case 2: detectorList[i].append( detectorZ)\n",
    "\n",
    "    # implementation\n",
    "    spectmp = np.vstack( (spec.wl, spec.value) )\n",
    "    SMCF = np.zeros(3)\n",
    "    for i in range( channels):\n",
    "        match i:\n",
    "            case 0: detectortmp = np.vstack( (detectorX.wl, detectorX.value) )\n",
    "            case 1: detectortmp = np.vstack( (detectorY.wl, detectorY.value) )\n",
    "            case 2: detectortmp = np.vstack( (detectorZ.wl, detectorZ.value) )\n",
    "        SMCF[i] = lx.spectral_mismatch_and_uncertainty.get_spectral_mismatch_correction_factors(\n",
    "                        spectmp, detectortmp, S_C=calibSD, cieobs='1931_2', s_target_index=i+1)\n",
    "    # Vektoren gehen noch nicht als Rückgabe\n",
    "    return [SMCF[0], SMCF[1], SMCF[2], [SMCF[0], SMCF[1]]]\n",
    "\n",
    "input = [spectrumMC, detectorMC[0], detectorMC[1], detectorMC[2]]\n",
    "output = [SMCF_X, SMCF_Y, SMCF_Z, SMCF_2]\n",
    "\n",
    "sim = McSim(trials=NumberTrials)\n",
    "sim.set_input_var(input)\n",
    "sim.set_output_var(output)\n",
    "sim.generate()\n",
    "\n",
    "#sim.calculate_model(model)\n",
    "sim.calculate_model(model)\n",
    "\n",
    "for i in range(len(input)+1):\n",
    "    print( i)\n",
    "    for var in sim.output_var[i]:\n",
    "        var.print_stat()\n",
    "\n",
    "print(len(specList))\n",
    "t = np.zeros((len(specList)+1, specList[0].shape[1]))\n",
    "t[0] = specList[0].wl\n",
    "t1 = np.zeros((channels, len(detectorList[0])+1, detectorList[0][0].shape[1]))\n",
    "for ii in range( channels):\n",
    "    t1[ii][0] = detectorList[0][0].wl\n",
    "    for i in range(len(specList)):\n",
    "        t[i+1] = specList[i].value\n",
    "        t1[ii][i+1] = detectorList[ii][i].value\n",
    "tmpSPD = SPD(spd=t)"
   ],
   "metadata": {
    "collapsed": false
   }
  },
  {
   "cell_type": "code",
   "execution_count": null,
   "outputs": [],
   "source": [
    "plot_2D(sim.output_var[4][3])"
   ],
   "metadata": {
    "collapsed": false
   }
  },
  {
   "cell_type": "code",
   "execution_count": null,
   "outputs": [],
   "source": [
    "tmpSPD.plot()"
   ],
   "metadata": {
    "collapsed": false
   }
  },
  {
   "cell_type": "code",
   "execution_count": null,
   "outputs": [],
   "source": [
    "SPD(spd=t1[0]).plot()"
   ],
   "metadata": {
    "collapsed": false
   }
  },
  {
   "cell_type": "code",
   "execution_count": null,
   "outputs": [],
   "source": [
    "SPD(spd=t1[1]).plot()"
   ],
   "metadata": {
    "collapsed": false
   }
  },
  {
   "cell_type": "code",
   "execution_count": null,
   "outputs": [],
   "source": [
    "SPD(spd=t1[2]).plot()"
   ],
   "metadata": {
    "collapsed": false
   }
  },
  {
   "cell_type": "code",
   "execution_count": null,
   "outputs": [],
   "source": [],
   "metadata": {
    "collapsed": false
   }
  }
 ],
 "metadata": {
  "kernelspec": {
   "display_name": "Python 3",
   "language": "python",
   "name": "python3"
  },
  "language_info": {
   "codemirror_mode": {
    "name": "ipython",
    "version": 2
   },
   "file_extension": ".py",
   "mimetype": "text/x-python",
   "name": "python",
   "nbconvert_exporter": "python",
   "pygments_lexer": "ipython2",
   "version": "2.7.6"
  }
 },
 "nbformat": 4,
 "nbformat_minor": 0
}
