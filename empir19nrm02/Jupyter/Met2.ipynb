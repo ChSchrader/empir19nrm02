{
 "cells": [
  {
   "cell_type": "markdown",
   "source": [
    "# $f_{1}^{´}$\n",
    "# Different candidates for different target functions?\n",
    "\n",
    "- calculate some statistics for the characteristic values and their relation to SMCF and statistical quality parameters **(ToDo)**"
   ],
   "metadata": {
    "collapsed": false,
    "pycharm": {
     "name": "#%% md\n"
    }
   }
  },
  {
   "cell_type": "code",
   "execution_count": null,
   "outputs": [],
   "source": [
    "from scipy import rand\n",
    "\n",
    "# temp import only\n",
    "from empir19nrm02.tools.help import strd, label_font_size, plot_cmf2, save_fig, get_target, label_management, \\\n",
    "    quantil, display_responsivity, get_fig_file_name\n",
    "\n",
    "import luxpy as lx\n",
    "import numpy as np\n",
    "from matplotlib import pyplot\n",
    "from sklearn.linear_model import LinearRegression\n",
    "import pandas as pd\n",
    "\n",
    "from empir19nrm02.f1prime import py_f1PrimeGlx\n",
    "from empir19nrm02.tools import plotCorrMatrixSmall\n",
    "%matplotlib inline\n",
    "from luxpy import _CMF, plot_spectrum_colors\n",
    "from luxpy.color.utils import plot_cmfs\n",
    "from luxpy.toolboxes.photbiochem import _BLH, Km_correction_factor\n",
    "from luxpy.toolboxes.photbiochem import _ACTIONSPECTRA_CIES026\n",
    "from luxpy.toolboxes.indvcmf import add_to_cmf_dict\n",
    "\n",
    "from empir19nrm02 import _SPD, _RES\n",
    "\n",
    "print('Version of luxpy:', lx.__version__)\n",
    "out_dir = 'Met2'"
   ],
   "metadata": {
    "collapsed": false,
    "pycharm": {
     "name": "#%%\n",
     "is_executing": true
    }
   }
  },
  {
   "cell_type": "markdown",
   "source": [
    "# What about other target functions?\n",
    "\n",
    "**$V^{'}(\\lambda)$** is already included in the CMF list (cieobs='1951_20_scotopic')\n",
    "\n",
    "To add:\n",
    "- **BLH** (from the photobiochem toolbox of luxpy to the _CMF)\n",
    "- **$s_{\\mathrm{mel}}$** (from the photobiochem toolbox ipRGC to the _CMF)"
   ],
   "metadata": {
    "collapsed": false,
    "pycharm": {
     "name": "#%% md\n"
    }
   }
  },
  {
   "cell_type": "code",
   "execution_count": 2,
   "outputs": [
    {
     "name": "stdout",
     "output_type": "stream",
     "text": [
      "BLH\n"
     ]
    },
    {
     "data": {
      "text/plain": "<Figure size 432x288 with 1 Axes>",
      "image/png": "[encoded data removed]"
     },
     "metadata": {
      "needs_background": "light"
     },
     "output_type": "display_data"
    },
    {
     "name": "stdout",
     "output_type": "stream",
     "text": [
      "SMEL\n"
     ]
    },
    {
     "data": {
      "text/plain": "<Figure size 432x288 with 1 Axes>",
      "image/png": "[encoded data removed]"
     },
     "metadata": {
      "needs_background": "light"
     },
     "output_type": "display_data"
    }
   ],
   "source": [
    "if 'BLH'  not in _CMF['types']:\n",
    "    print( 'BLH')\n",
    "    add_to_cmf_dict(bar=np.vstack((_BLH,_BLH[1],_BLH[1])), cieobs = 'BLH', K = 683, M = np.eye(3))\n",
    "    plot_cmf2( name='BLH', cmf_symbols=['BLH'], cmf_colors = ['b-'],  single=True)\n",
    "    save_fig( out_dir, 'BLH_function')\n",
    "\n",
    "if 'SMEL'  not in _CMF['types']:\n",
    "    print( 'SMEL')\n",
    "    add_to_cmf_dict(bar=np.vstack((_ACTIONSPECTRA_CIES026[0],_ACTIONSPECTRA_CIES026[5],_ACTIONSPECTRA_CIES026[5],_ACTIONSPECTRA_CIES026[5])), cieobs = 'SMEL', K = 683*Km_correction_factor, M = np.eye(3))\n",
    "    plot_cmf2( name='SMEL', cmf_symbols=['s_{\\mathrm{mel}}'], cmf_colors = ['b-'],  single=True)\n",
    "    save_fig( out_dir, 'SMEL_function')"
   ],
   "metadata": {
    "collapsed": false,
    "pycharm": {
     "name": "#%%\n"
    }
   }
  },
  {
   "cell_type": "markdown",
   "source": [
    "# What we need to evaluated/calculate:\n",
    "\n",
    "- Detectors --> _detectors\n",
    "- Target functions --> _target_name **and** index\n",
    "- Spectral distributions --> _spectra\n",
    "- SMCF's evaluated for the combination of Detectors/target function and SD depending on the calibration\n",
    "- Characteristic values to be evaluated for the detectors --> cValues\n",
    "- Evaluation of the connection between the cValues and the SMCF values\n"
   ],
   "metadata": {
    "collapsed": false,
    "pycharm": {
     "name": "#%% md\n"
    }
   }
  },
  {
   "cell_type": "code",
   "execution_count": 3,
   "outputs": [],
   "source": [
    "def calc_cValues( detectors, target_name = '1931_2', target_index=2):\n",
    "    f1pA=py_f1PrimeGlx(detectors, strObserver=target_name, iObserverOffset = target_index-1, strWeighting='A', iMin=0, dCutOff=0., dBandWidth=0.)\n",
    "    f1pE=py_f1PrimeGlx(detectors, strObserver=target_name, iObserverOffset = target_index-1, strWeighting='E', iMin=0, dCutOff=0., dBandWidth=0.)\n",
    "    f1pLED=py_f1PrimeGlx(detectors, strObserver=target_name, iObserverOffset = target_index-1, strWeighting='LED_B3', iMin=0, dCutOff=0., dBandWidth=0.)\n",
    "    f1pAFMin=py_f1PrimeGlx(detectors, strObserver=target_name, iObserverOffset = target_index-1, strWeighting='A', iMin=1, dCutOff=0., dBandWidth=0.)\n",
    "    f1pp=py_f1PrimeGlx(detectors, strObserver=target_name, iObserverOffset = target_index-1, strWeighting='E', iMin=0, dCutOff=dCutOff, dBandWidth=0.)\n",
    "    f1ppR=py_f1PrimeGlx(detectors, strObserver=target_name, iObserverOffset = target_index-1, strWeighting='E', iMin=0, dCutOff=-dCutOff, dBandWidth=0.)\n",
    "    f1pBW20nm=py_f1PrimeGlx(detectors, strObserver=target_name, iObserverOffset = target_index-1, strWeighting='A', iMin=0, dCutOff=0., dBandWidth=20.)\n",
    "\n",
    "    return f1pA, f1pE, f1pLED, f1pAFMin, f1pp, f1ppR, f1pBW20nm"
   ],
   "metadata": {
    "collapsed": false,
    "pycharm": {
     "name": "#%%\n"
    }
   }
  },
  {
   "cell_type": "code",
   "execution_count": 4,
   "outputs": [],
   "source": [
    "def makeLinearRegression( _xdata, _ydata):\n",
    "    lr_model = LinearRegression()\n",
    "    xdata = _xdata.copy()\n",
    "    nonZeros =np.where(_xdata != 0)\n",
    "    xdata= xdata.reshape(-1,1)\n",
    "    lr_model.fit(xdata, _ydata)\n",
    "    slope=lr_model.coef_[0]\n",
    "    offset=lr_model.intercept_\n",
    "    r_sq = lr_model.score(xdata, _ydata)\n",
    "\n",
    "    # without the first data set (normally zero)\n",
    "    smcfSlopeMax = np.zeros(xdata.shape[0])\n",
    "    smcfSlopeMax[nonZeros]=_ydata[nonZeros]/_xdata[nonZeros]\n",
    "    smcfSlopeQMax = np.quantile( smcfSlopeMax, 1-quantil)\n",
    "\n",
    "    print( slope, offset, r_sq, smcfSlopeQMax)\n",
    "    return slope, offset, r_sq, smcfSlopeQMax"
   ],
   "metadata": {
    "collapsed": false,
    "pycharm": {
     "name": "#%%\n"
    }
   }
  },
  {
   "cell_type": "markdown",
   "source": [
    "# Sensitivity for wavelength dependent noise"
   ],
   "metadata": {
    "collapsed": false,
    "pycharm": {
     "name": "#%% md\n"
    }
   }
  },
  {
   "cell_type": "code",
   "execution_count": 5,
   "outputs": [],
   "source": [
    "def eval_target_noise( target, str_target, name):\n",
    "    _detectorsNoise = target.copy()\n",
    "\n",
    "    for i in range(0, target.shape[1]):\n",
    "        to_add = target.copy()\n",
    "        to_add[1,i] += .1\n",
    "        _detectorsNoise= np.vstack((_detectorsNoise, to_add[1]))\n",
    "\n",
    "    fig, ax1 = pyplot.subplots()\n",
    "    ax1.plot(_detectorsNoise[0], _detectorsNoise[1], 'g-', label=str_target)\n",
    "    ax1.plot(_detectorsNoise[0], _detectorsNoise[4], '*', label=str_target +'$ + \\Delta$')\n",
    "    ax1.set_xlabel(strd['xlambda'], fontsize=label_font_size)\n",
    "    ax1.set_ylabel('Signal' + strd['AU'], fontsize=label_font_size)\n",
    "    ax1.set_xlim([380, 500])\n",
    "    ax1.set_ylim([0, 0.2])\n",
    "    pyplot.legend()\n",
    "    save_fig(out_dir, name + 'noiseSingle')\n",
    "\n",
    "\n",
    "    nf1pA, nf1pE, nf1pLED, nf1pAFMin, nf1pp, nf1ppR, nf1pBW20nm = \\\n",
    "        calc_cValues(_detectorsNoise, _target_name, _target_index)\n",
    "\n",
    "    nsubPlot = 2\n",
    "\n",
    "    xRange = np.arange(375,780+1,5)\n",
    "    fig, ax1 = pyplot.subplots()\n",
    "    ax2 = ax1.twinx()\n",
    "\n",
    "    ax1.plot(xRange[1::nsubPlot], nf1pA[1::nsubPlot], '-', label=strd['f1p'])\n",
    "    ax1.plot(xRange[1::nsubPlot], nf1pE[1::nsubPlot], 'x', label=strd['f1pE'])\n",
    "    ax1.plot(xRange[1::nsubPlot], nf1pLED[1::nsubPlot], '--', label=strd['f1pLED'])\n",
    "    ax1.plot(xRange[1::nsubPlot], nf1pAFMin[1::nsubPlot], '<', label=strd['f1pMin'])\n",
    "    ax1.plot(xRange[1::nsubPlot], nf1ppR[1::nsubPlot], '>', label=strd['f1ppR'])\n",
    "    ax1.plot(xRange[1::nsubPlot], nf1pBW20nm[1::nsubPlot], '2', label=strd['f1pBW'])\n",
    "    ax2.plot(xRange[1::nsubPlot], nf1pp[1::nsubPlot], '1', label=strd['f1pp'])\n",
    "\n",
    "    ax1.set_xlabel(strd['xlambda'], fontsize=label_font_size)\n",
    "    ax1.set_ylabel(strd['f1p'] + ',' + strd['f1pE'] + ',' +  strd['f1pMin'] + ',' +  strd['f1ppR'] + ',' +  strd['f1pBW'], fontsize=label_font_size)\n",
    "    ax2.set_ylabel(strd['f1pp'], fontsize=label_font_size)\n",
    "    lines_labels = [ax.get_legend_handles_labels() for ax in fig.axes]\n",
    "    lines, labels = [sum(lol, []) for lol in zip(*lines_labels)]\n",
    "    pyplot.legend(lines, labels, bbox_to_anchor=(0.0, -0.3, 1, 0), loc='lower left',\n",
    "               ncol=7, mode=\"expand\", borderaxespad=0.)\n",
    "    save_fig(out_dir, name + 'noiseEval')"
   ],
   "metadata": {
    "collapsed": false,
    "pycharm": {
     "name": "#%%\n"
    }
   }
  },
  {
   "cell_type": "markdown",
   "source": [
    "# Sensitivity for correlated wavelength shifts"
   ],
   "metadata": {
    "collapsed": false,
    "pycharm": {
     "name": "#%% md\n"
    }
   }
  },
  {
   "cell_type": "code",
   "execution_count": 6,
   "outputs": [],
   "source": [
    "def eval_target_shift( target, str_target, name):\n",
    "    _detectorsShift = target.copy()\n",
    "\n",
    "    shift2min = 0\n",
    "    shift2max = 5\n",
    "    shift_steps = 0.1\n",
    "    shift_range = np.arange(shift2min, shift2max+2*shift_steps, shift_steps)\n",
    "\n",
    "    for i in shift_range:\n",
    "        wl_current = _detectors[0]+i\n",
    "        target_moved = np.vstack((wl_current, target[1]))\n",
    "        target_interpolated = lx.cie_interp(target_moved, target[0], negative_values_allowed=True, kind='linear')\n",
    "        _detectorsShift = np.vstack((_detectorsShift, target_interpolated[1]))\n",
    "\n",
    "    detectors_shift_number = _detectorsShift.shape[0]\n",
    "    pyplot.plot(_detectorsShift[0,:], _detectorsShift[2,:], 'r-', label='shift ' + str(shift2min)+ ' nm')\n",
    "    pyplot.plot(_detectorsShift[0,:], _detectorsShift[int((detectors_shift_number-1)/2),:], 'g-', label=str_target)\n",
    "    pyplot.plot(_detectorsShift[0,:], _detectorsShift[detectors_shift_number-1,:], 'b-', label='shift +' + str(shift2max)+ ' nm')\n",
    "    pyplot.xlabel(strd['xlambda'], fontsize=label_font_size)\n",
    "    pyplot.ylabel(str_target + ',' + strd['srelLambda'], fontsize=label_font_size)\n",
    "    pyplot.legend()\n",
    "    save_fig(out_dir, name + 'ShiftsSingle')\n",
    "\n",
    "    sf1pA, sf1pE, sf1pLED, sf1pAFMin, sf1pp, sf1ppR, sf1pBW20nm = \\\n",
    "        calc_cValues(_detectorsShift, _target_name, _target_index)\n",
    "\n",
    "    fig, ax1 = pyplot.subplots()\n",
    "    ax2 = ax1.twinx()\n",
    "\n",
    "    xRange = shift_range\n",
    "    subPlot = 5\n",
    "    ax1.plot(xRange[1::subPlot], sf1pA[1::subPlot], '-', label=strd['f1p'])\n",
    "    ax1.plot(xRange[1::subPlot], sf1pE[1::subPlot], 'x', label=strd['f1pE'])\n",
    "    ax1.plot(xRange[1::subPlot], sf1pLED[1::subPlot], '--', label=strd['f1pLED'])\n",
    "    ax1.plot(xRange[1::subPlot], sf1pAFMin[1::subPlot], '<', label=strd['f1pMin'])\n",
    "    ax1.plot(xRange[1::subPlot], sf1ppR[1::subPlot], '>', label=strd['f1ppR'])\n",
    "    ax1.plot(xRange[1::subPlot], sf1pBW20nm[1::subPlot], '2', label=strd['f1pBW'])\n",
    "    ax2.plot(xRange[1::subPlot], sf1pp[1::subPlot], '1', label=strd['f1pp'])\n",
    "\n",
    "    ax1.set_xlabel('$\\Delta\\lambda$ / nm', fontsize=label_font_size)\n",
    "    ax1.set_ylabel(strd['f1p'] + ',' + strd['f1pE'] + ',' +  strd['f1pMin'] + ',' +  strd['f1ppR'] + ',' +  strd['f1pBW'], fontsize=label_font_size)\n",
    "    ax2.set_ylabel(strd['f1pp'], fontsize=label_font_size)\n",
    "    lines_labels = [ax.get_legend_handles_labels() for ax in fig.axes]\n",
    "    lines, labels = [sum(lol, []) for lol in zip(*lines_labels)]\n",
    "    pyplot.legend(lines, labels, bbox_to_anchor=(0.0, -0.2, 1, 0), loc='upper left',\n",
    "               ncol=7, mode=\"expand\", borderaxespad=0.)\n",
    "    save_fig(out_dir, name + 'ShiftsEval')\n",
    "    return  np.array([0, sf1pA[-1],sf1pE[-1],sf1pLED[-1],sf1pAFMin[-1],sf1ppR[-1],sf1pBW20nm[-1]])/float(shift2max)"
   ],
   "metadata": {
    "collapsed": false,
    "pycharm": {
     "name": "#%%\n"
    }
   }
  },
  {
   "cell_type": "code",
   "execution_count": 7,
   "outputs": [],
   "source": [
    "def display_spectra( spd, _spectra, out_dir=None):\n",
    "    # plot the mean value with some statistical data\n",
    "    s_number = _spectra.shape[0]-1\n",
    "    print( s_number)\n",
    "    for i in range(2,s_number,int(s_number/10)):\n",
    "        print(i)\n",
    "        pyplot.plot(_spectra[0], _spectra[i]/np.max(_spectra[i]))\n",
    "    pyplot.ylabel(strd['SDLambda'],fontsize=label_font_size)\n",
    "    pyplot.xlabel(strd['xlambda'],fontsize=label_font_size)\n",
    "\n",
    "    if out_dir is not None:\n",
    "        save_fig( out_dir, spd+'_SPDSamples')\n",
    "\n",
    "    # Horseshoo missing\n",
    "    if out_dir is not None:\n",
    "        save_fig( out_dir, spd+'_xy')"
   ],
   "metadata": {
    "collapsed": false,
    "pycharm": {
     "name": "#%%\n"
    }
   }
  },
  {
   "cell_type": "code",
   "execution_count": 8,
   "outputs": [
    {
     "name": "stdout",
     "output_type": "stream",
     "text": [
      "VLDetectors\n"
     ]
    },
    {
     "ename": "KeyError",
     "evalue": "'LED_L41'",
     "output_type": "error",
     "traceback": [
      "\u001B[1;31m---------------------------------------------------------------------------\u001B[0m",
      "\u001B[1;31mKeyError\u001B[0m                                  Traceback (most recent call last)",
      "\u001B[1;32m<ipython-input-8-2fbb2b870268>\u001B[0m in \u001B[0;36m<module>\u001B[1;34m\u001B[0m\n\u001B[0;32m     32\u001B[0m \u001B[1;33m\u001B[0m\u001B[0m\n\u001B[0;32m     33\u001B[0m     \u001B[0m_detectors\u001B[0m\u001B[1;33m=\u001B[0m\u001B[0m_RES\u001B[0m\u001B[1;33m[\u001B[0m\u001B[0m_name\u001B[0m\u001B[1;33m]\u001B[0m\u001B[1;33m[\u001B[0m\u001B[1;34m'S'\u001B[0m\u001B[1;33m]\u001B[0m\u001B[1;33m[\u001B[0m\u001B[1;34m'data'\u001B[0m\u001B[1;33m]\u001B[0m\u001B[1;33m.\u001B[0m\u001B[0mcopy\u001B[0m\u001B[1;33m(\u001B[0m\u001B[1;33m)\u001B[0m\u001B[1;33m\u001B[0m\u001B[1;33m\u001B[0m\u001B[0m\n\u001B[1;32m---> 34\u001B[1;33m     \u001B[0mdisplay_responsivity\u001B[0m\u001B[1;33m(\u001B[0m\u001B[0m_name\u001B[0m\u001B[1;33m,\u001B[0m \u001B[0m_detectors\u001B[0m\u001B[1;33m,\u001B[0m \u001B[0mcieobs\u001B[0m\u001B[1;33m=\u001B[0m\u001B[0m_target_name\u001B[0m\u001B[1;33m,\u001B[0m \u001B[0ms_target_index\u001B[0m\u001B[1;33m=\u001B[0m\u001B[0m_target_index\u001B[0m\u001B[1;33m,\u001B[0m \u001B[0mout_dir\u001B[0m\u001B[1;33m=\u001B[0m\u001B[0mout_dir\u001B[0m\u001B[1;33m)\u001B[0m\u001B[1;33m\u001B[0m\u001B[1;33m\u001B[0m\u001B[0m\n\u001B[0m\u001B[0;32m     35\u001B[0m \u001B[1;33m\u001B[0m\u001B[0m\n\u001B[0;32m     36\u001B[0m     \u001B[0m_spectra\u001B[0m\u001B[1;33m=\u001B[0m\u001B[0m_SPD\u001B[0m\u001B[1;33m[\u001B[0m\u001B[0mspd\u001B[0m\u001B[1;33m]\u001B[0m\u001B[1;33m[\u001B[0m\u001B[1;34m'S'\u001B[0m\u001B[1;33m]\u001B[0m\u001B[1;33m[\u001B[0m\u001B[1;34m'data'\u001B[0m\u001B[1;33m]\u001B[0m\u001B[1;33m.\u001B[0m\u001B[0mcopy\u001B[0m\u001B[1;33m(\u001B[0m\u001B[1;33m)\u001B[0m\u001B[1;33m\u001B[0m\u001B[1;33m\u001B[0m\u001B[0m\n",
      "\u001B[1;32mF:\\TTBV\\Python\\empir19nrm02\\empir19nrm02\\tools\\help.py\u001B[0m in \u001B[0;36mdisplay_responsivity\u001B[1;34m(name, detectors, cieobs, s_target_index, out_dir)\u001B[0m\n\u001B[0;32m    144\u001B[0m     \u001B[0mdl\u001B[0m \u001B[1;33m=\u001B[0m \u001B[0mlx\u001B[0m\u001B[1;33m.\u001B[0m\u001B[0mgetwld\u001B[0m\u001B[1;33m(\u001B[0m\u001B[0mdetectors\u001B[0m\u001B[1;33m[\u001B[0m\u001B[1;36m0\u001B[0m\u001B[1;33m]\u001B[0m\u001B[1;33m)\u001B[0m\u001B[1;33m\u001B[0m\u001B[1;33m\u001B[0m\u001B[0m\n\u001B[0;32m    145\u001B[0m     \u001B[1;31m# LED_L41 is only availible in a modified version of luxpy at the moment\u001B[0m\u001B[1;33m\u001B[0m\u001B[1;33m\u001B[0m\u001B[1;33m\u001B[0m\u001B[0m\n\u001B[1;32m--> 146\u001B[1;33m     \u001B[0mSC_L41_org\u001B[0m \u001B[1;33m=\u001B[0m \u001B[0mlx\u001B[0m\u001B[1;33m.\u001B[0m\u001B[0m_CIE_ILLUMINANTS\u001B[0m\u001B[1;33m[\u001B[0m\u001B[1;34m'LED_L41'\u001B[0m\u001B[1;33m]\u001B[0m\u001B[1;33m.\u001B[0m\u001B[0mcopy\u001B[0m\u001B[1;33m(\u001B[0m\u001B[1;33m)\u001B[0m\u001B[1;33m\u001B[0m\u001B[1;33m\u001B[0m\u001B[0m\n\u001B[0m\u001B[0;32m    147\u001B[0m     \u001B[1;31m# LED_L41 in the right wavelength resolution (of the detector set)\u001B[0m\u001B[1;33m\u001B[0m\u001B[1;33m\u001B[0m\u001B[1;33m\u001B[0m\u001B[0m\n\u001B[0;32m    148\u001B[0m     \u001B[0mSC_L41\u001B[0m \u001B[1;33m=\u001B[0m \u001B[0mlx\u001B[0m\u001B[1;33m.\u001B[0m\u001B[0mcie_interp\u001B[0m\u001B[1;33m(\u001B[0m\u001B[0mSC_L41_org\u001B[0m\u001B[1;33m,\u001B[0m \u001B[0mdetectors\u001B[0m\u001B[1;33m[\u001B[0m\u001B[1;36m0\u001B[0m\u001B[1;33m]\u001B[0m\u001B[1;33m,\u001B[0m \u001B[0mnegative_values_allowed\u001B[0m\u001B[1;33m=\u001B[0m\u001B[1;32mTrue\u001B[0m\u001B[1;33m,\u001B[0m \u001B[0mkind\u001B[0m\u001B[1;33m=\u001B[0m\u001B[1;34m'linear'\u001B[0m\u001B[1;33m)\u001B[0m\u001B[1;33m\u001B[0m\u001B[1;33m\u001B[0m\u001B[0m\n",
      "\u001B[1;31mKeyError\u001B[0m: 'LED_L41'"
     ]
    }
   ],
   "source": [
    "_DETECTOR_TYPES = ['VLDetectors','XDetectors','YDetectors','ZDetectors','BLHDetectors','VSDetectors','SMELDetectors']\n",
    "_TARGET_NAMES = ['1931_2','1931_2','1931_2','1931_2','BLH','VS','SMEL']\n",
    "_TARGET_INDEX = [2,1,2,3,2,2,2]\n",
    "\n",
    "strNames=['', 'f1p', 'f1pE', 'f1pLED', 'f1pMin', 'f1ppR', 'f1pBW20nm']\n",
    "f1pTable = pd.DataFrame()\n",
    "\n",
    "for i, detector_type in enumerate(_DETECTOR_TYPES): # store all in single nested dict\n",
    "#for i in range(0,2):\n",
    "    _name = _DETECTOR_TYPES[i]\n",
    "    _target_name = _TARGET_NAMES[i]\n",
    "    _target_index = _TARGET_INDEX[i]\n",
    "    S_C = 'LED_L41' # 'A'\n",
    "    spd = 'PHOTOLED' # 'BB, 'PHOTOLED', 'MONOLED'\n",
    "\n",
    "    str_target = ''\n",
    "    if _target_name == '1931_2':\n",
    "        if _target_index == 1:\n",
    "            str_target = '$X(\\lambda)$'\n",
    "        elif _target_index == 2:\n",
    "            str_target = '$V(\\lambda)$'\n",
    "        elif _target_index == 3:\n",
    "            str_target = '$Z(\\lambda)$'\n",
    "    else:\n",
    "        if _target_name == 'BLH':\n",
    "            str_target = '$BLH(\\lambda)$'\n",
    "        if _target_name == 'VS':\n",
    "            str_target = '$V^{´}(\\lambda)$'\n",
    "            _target_name = '1951_20_scotopic'\n",
    "        if _target_name == 'SMEL':\n",
    "            str_target = '$s_{\\mathrm{mel}}(\\lambda)$'\n",
    "\n",
    "    _detectors=_RES[_name]['S']['data'].copy()\n",
    "    display_responsivity(_name, _detectors, cieobs=_target_name, s_target_index=_target_index, out_dir=out_dir)\n",
    "\n",
    "    _spectra=_SPD[spd]['S']['data'].copy()\n",
    "    display_spectra( spd, _spectra, out_dir=out_dir)\n",
    "\n",
    "    _SMCF=np.abs(1.-lx.spectral_mismatch_and_uncertainty.get_spectral_mismatch_correction_factors(\n",
    "        _spectra, _detectors, S_C=S_C, cieobs=_target_name))\n",
    "\n",
    "    c_f1pA, c_f1pE, c_f1pLED, c_f1pAFMin, c_f1pp, c_f1ppR, c_f1pBW20nm = calc_cValues(_detectors, _target_name, _target_index)\n",
    "\n",
    "    qPlus=np.quantile( _SMCF, 1-quantil, axis=0)\n",
    "\n",
    "    # Correlations between the index values\n",
    "\n",
    "    # Combine the results in a vector\n",
    "    f1pEval = np.vstack(( c_f1pA, c_f1pE, c_f1pLED, c_f1pAFMin, c_f1pp, c_f1ppR, c_f1pBW20nm, qPlus))\n",
    "    f1pEvalCorr = np.corrcoef(f1pEval)\n",
    "    x_label_list = [ strd['f1p'], strd['f1pE'], strd['f1pLED'], strd['f1pMin'], strd['f1pp'], strd['f1ppR'], strd['f1pBW'], strd['q_plus_a']]\n",
    "    plotCorrMatrixSmall(f1pEvalCorr, x_label_list, title=None, fileName=None, with_values=True)\n",
    "    save_fig(out_dir, _name + 'corr')\n",
    "\n",
    "    print( strd['f1p'])\n",
    "    s_f1pA=makeLinearRegression( c_f1pA, qPlus)\n",
    "    print( strd['f1pE'])\n",
    "    s_f1pE=makeLinearRegression( c_f1pE, qPlus)\n",
    "    print( strd['f1pLED'])\n",
    "    s_f1pLED=makeLinearRegression( c_f1pLED, qPlus)\n",
    "    print( strd['f1pMin'])\n",
    "    s_f1pAFMin=makeLinearRegression( c_f1pAFMin, qPlus)\n",
    "    print( strd['f1ppR'])\n",
    "    s_f1ppR=makeLinearRegression( c_f1ppR, qPlus)\n",
    "    print( strd['f1pBW'])\n",
    "    s_f1pBW20nm=makeLinearRegression( c_f1pBW20nm, qPlus)\n",
    "    data=[s_f1pA, s_f1pA, s_f1pE, s_f1pLED, s_f1pAFMin, s_f1ppR, s_f1pBW20nm]\n",
    "\n",
    "    fig, ax = pyplot.subplots()\n",
    "    ax.set_xlabel('cValue', fontsize=label_font_size)\n",
    "    ax.set_ylabel(strd['q_plus_a'], fontsize=label_font_size)\n",
    "    ax.plot( c_f1pA, qPlus, 'r1', label=strd['f1p'])\n",
    "    ax.plot( c_f1pA, s_f1pA[0]*c_f1pA + s_f1pA[1], 'r-', label=strd['f1p'])\n",
    "    ax.plot( c_f1pE, qPlus, 'g2', label=strd['f1pE'])\n",
    "    ax.plot( c_f1pE, s_f1pE[0]*c_f1pE + s_f1pE[1], 'g-', label=strd['f1pE'])\n",
    "    ax.plot( c_f1pLED, qPlus, 'b3', label=strd['f1pLED'])\n",
    "    ax.plot( c_f1pLED,s_f1pLED[0]* c_f1pLED+s_f1pLED[1], 'b-', label=strd['f1pLED'])\n",
    "    ax.plot( c_f1pAFMin, qPlus, 'r4', label=strd['f1pMin'])\n",
    "    ax.plot( c_f1ppR, qPlus, 'g4', label=strd['f1ppR'])\n",
    "    ax.plot( c_f1ppR, s_f1ppR[0]*c_f1ppR+s_f1ppR[1], 'g-', label=strd['f1ppR'])\n",
    "    ax.plot( c_f1pBW20nm, qPlus, 'b4', label=strd['f1pBW'])\n",
    "    ax.legend()\n",
    "    save_fig(out_dir, _name + 'cValueReg')\n",
    "\n",
    "    # target funciton in the right resolution\n",
    "    target = get_target(cieobs=_target_name, target_index=_target_index, wl_new= _detectors[0])\n",
    "\n",
    "    # no numbers generated from this investigation\n",
    "    eval_target_noise( target, str_target, _name)\n",
    "\n",
    "    eval_shift=eval_target_shift( target, str_target, _name)\n",
    "\n",
    "    for i in range(1,7):\n",
    "        v_m_current = data[i]\n",
    "        df = pd.DataFrame( { \\\n",
    "            'N': [i], \\\n",
    "            'Target': str_target,\n",
    "            'Name': strNames[i], \\\n",
    "            'm_q95': v_m_current[0],\n",
    "            'n_q95': v_m_current[1], \\\n",
    "            'r_sq_q95': v_m_current[2],\n",
    "            'smcfSlopeQMax': v_m_current[3],\n",
    "            'shift [1/nm]': eval_shift[i]} )\n",
    "        f1pTable = f1pTable.append( df)\n",
    "\n",
    "    print( f1pTable)\n",
    "\n",
    "f1pTable.to_csv(get_fig_file_name(out_dir, 'f1pTable', table=True), sep=';',  decimal=\",\")\n",
    "\n"
   ],
   "metadata": {
    "collapsed": false,
    "pycharm": {
     "name": "#%%\n"
    }
   }
  },
  {
   "cell_type": "code",
   "execution_count": null,
   "outputs": [],
   "source": [
    "def makeTable( spectraLoc, filename, use_SMCFLED=True):\n",
    "    #[_, v_m_Dataf1p,v_m_Dataf1pE, v_m_Dataf1pLED, v_m_Dataf1pAFMin, v_m_Dataf1ppR, v_m_Dataf1pBW20nm]= \\\n",
    "    data = calc_data_from_spectra_detectors( vldetectors, spectraLoc, eins_minus=True, r_sq_calc=True, use_SMCFLED=use_SMCFLED)\n",
    "\n",
    "    strNames=['', 'f1p', 'f1pE', 'f1pLED', 'f1pMin', 'f1ppR', 'f1pBW20nm']\n",
    "    f1pTable = pd.DataFrame()\n",
    "    for i in range(1,7):\n",
    "        v_m_current = data[i]\n",
    "        #strName = 'f1p'\n",
    "        df = pd.DataFrame( { \\\n",
    "            'N': [i], \\\n",
    "            'Name': strNames[i], \\\n",
    "            'm_mean': v_m_current[0], 'm_mean_r_sq': v_m_current[1], \\\n",
    "            'm_sigma': v_m_current[2], 'm_sigma_r_sq': v_m_current[3], \\\n",
    "            'm_qMax': v_m_current[4], 'm_qMax_r_sq': v_m_current[5], \\\n",
    "            'smcfSlopeQMax': v_m_current[6] } )\n",
    "        f1pTable = f1pTable.append( df)\n",
    "\n",
    "    print( f1pTable)\n",
    "    f1pTable.to_csv(get_fig_file_name(filename, table=True), sep=';',  decimal=\",\")"
   ],
   "metadata": {
    "collapsed": false,
    "pycharm": {
     "name": "#%%\n"
    }
   }
  }
 ],
 "metadata": {
  "kernelspec": {
   "name": "python3",
   "language": "python",
   "display_name": "Python 3"
  },
  "language_info": {
   "codemirror_mode": {
    "name": "ipython",
    "version": 2
   },
   "file_extension": ".py",
   "mimetype": "text/x-python",
   "name": "python",
   "nbconvert_exporter": "python",
   "pygments_lexer": "ipython2",
   "version": "2.7.6"
  }
 },
 "nbformat": 4,
 "nbformat_minor": 0
}