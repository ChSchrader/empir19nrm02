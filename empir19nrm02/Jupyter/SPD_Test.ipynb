{
 "cells": [
  {
   "cell_type": "markdown",
   "source": [
    "# $f_{1}^{´}$\n",
    "# SPD Tests\n",
    "# Different candidates for different target functions?\n",
    "## luxpy together with emipr19nrm02\n",
    "\n",
    "- management of target functions to work with luxpy (SMCF, f1prime, etc.)\n",
    "- work with additional collections of responsivities\n",
    "\n",
    "For our next more general work (extension to other target functions) we need\n",
    "- All target functions integrated into the luxpy CMF **(done for BLH, $s_{\\mathrm{mel}}$, V')**\n",
    "- Extended sets of detector responsivities for the calculation **(done in a very first step)**\n",
    "- A wide collection of SD to work with **(done for PT and Mono LEDs)**\n",
    "- calculate some statistics for the characteristic values and their relation to SMCF and statistical quality parameters **(ToDo)**"
   ],
   "metadata": {
    "collapsed": false
   }
  },
  {
   "cell_type": "code",
   "execution_count": 3,
   "outputs": [
    {
     "name": "stdout",
     "output_type": "stream",
     "text": [
      "Version of luxpy: v1.10.0\n"
     ]
    },
    {
     "data": {
      "text/plain": "WindowsPath('E:/TTBV/Python/luxpy')"
     },
     "execution_count": 3,
     "metadata": {},
     "output_type": "execute_result"
    }
   ],
   "source": [
    "from scipy import rand\n",
    "\n",
    "# temp import only\n",
    "from empir19nrm02.tools.help import strd, label_font_size, plot_cmf2, save_fig, get_target, label_management, \\\n",
    "    quantil, display_responsivity\n",
    "\n",
    "#%run -i jhelp\n",
    "\n",
    "\n",
    "import luxpy as lx\n",
    "import numpy as np\n",
    "from matplotlib import pyplot\n",
    "from sklearn.linear_model import LinearRegression\n",
    "\n",
    "from empir19nrm02.f1prime import py_f1PrimeGlx\n",
    "from empir19nrm02.tools import plotCorrMatrixSmall\n",
    "%matplotlib inline\n",
    "from luxpy import _CMF, plot_spectrum_colors\n",
    "from luxpy.color.utils import plot_cmfs\n",
    "from luxpy.toolboxes.photbiochem import _BLH, Km_correction_factor\n",
    "from luxpy.toolboxes.photbiochem import _ACTIONSPECTRA_CIES026\n",
    "from luxpy.toolboxes.indvcmf import add_to_cmf_dict\n",
    "\n",
    "from empir19nrm02 import _SPD, _RES\n",
    "\n",
    "print('Version of luxpy:', lx.__version__)\n",
    "out_dir = 'SPD_Test'"
   ],
   "metadata": {
    "collapsed": false
   }
  },
  {
   "cell_type": "markdown",
   "source": [
    "# What about other target functions?\n",
    "\n",
    "**$V^{'}(\\lambda)$** is already included in the CMF list (cieobs='1951_20_scotopic')\n",
    "\n",
    "To add:\n",
    "- **BLH** (from the photobiochem toolbox of luxpy to the _CMF)\n",
    "- **$s_{\\mathrm{mel}}$** (from the photobiochem toolbox ipRGC to the _CMF)"
   ],
   "metadata": {
    "collapsed": false
   }
  },
  {
   "cell_type": "code",
   "execution_count": 2,
   "outputs": [
    {
     "name": "stdout",
     "output_type": "stream",
     "text": [
      "BLH\n"
     ]
    },
    {
     "ename": "FileNotFoundError",
     "evalue": "[Errno 2] No such file or directory: 'SPD_Test\\\\FigBLH_function.svg'",
     "output_type": "error",
     "traceback": [
      "\u001B[1;31m---------------------------------------------------------------------------\u001B[0m",
      "\u001B[1;31mFileNotFoundError\u001B[0m                         Traceback (most recent call last)",
      "Input \u001B[1;32mIn [2]\u001B[0m, in \u001B[0;36m<cell line: 1>\u001B[1;34m()\u001B[0m\n\u001B[0;32m      3\u001B[0m     add_to_cmf_dict(bar\u001B[38;5;241m=\u001B[39mnp\u001B[38;5;241m.\u001B[39mvstack((_BLH,_BLH[\u001B[38;5;241m1\u001B[39m],_BLH[\u001B[38;5;241m1\u001B[39m])), cieobs \u001B[38;5;241m=\u001B[39m \u001B[38;5;124m'\u001B[39m\u001B[38;5;124mBLH\u001B[39m\u001B[38;5;124m'\u001B[39m, K \u001B[38;5;241m=\u001B[39m \u001B[38;5;241m683\u001B[39m, M \u001B[38;5;241m=\u001B[39m np\u001B[38;5;241m.\u001B[39meye(\u001B[38;5;241m3\u001B[39m))\n\u001B[0;32m      4\u001B[0m     plot_cmf2( name\u001B[38;5;241m=\u001B[39m\u001B[38;5;124m'\u001B[39m\u001B[38;5;124mBLH\u001B[39m\u001B[38;5;124m'\u001B[39m, cmf_symbols\u001B[38;5;241m=\u001B[39m[\u001B[38;5;124m'\u001B[39m\u001B[38;5;124mBLH\u001B[39m\u001B[38;5;124m'\u001B[39m], cmf_colors \u001B[38;5;241m=\u001B[39m [\u001B[38;5;124m'\u001B[39m\u001B[38;5;124mb-\u001B[39m\u001B[38;5;124m'\u001B[39m],  single\u001B[38;5;241m=\u001B[39m\u001B[38;5;28;01mTrue\u001B[39;00m)\n\u001B[1;32m----> 5\u001B[0m     \u001B[43msave_fig\u001B[49m\u001B[43m(\u001B[49m\u001B[43m \u001B[49m\u001B[43mout_dir\u001B[49m\u001B[43m,\u001B[49m\u001B[43m \u001B[49m\u001B[38;5;124;43m'\u001B[39;49m\u001B[38;5;124;43mBLH_function\u001B[39;49m\u001B[38;5;124;43m'\u001B[39;49m\u001B[43m)\u001B[49m\n\u001B[0;32m      7\u001B[0m \u001B[38;5;28;01mif\u001B[39;00m \u001B[38;5;124m'\u001B[39m\u001B[38;5;124mSMEL\u001B[39m\u001B[38;5;124m'\u001B[39m  \u001B[38;5;129;01mnot\u001B[39;00m \u001B[38;5;129;01min\u001B[39;00m _CMF[\u001B[38;5;124m'\u001B[39m\u001B[38;5;124mtypes\u001B[39m\u001B[38;5;124m'\u001B[39m]:\n\u001B[0;32m      8\u001B[0m     \u001B[38;5;28mprint\u001B[39m( \u001B[38;5;124m'\u001B[39m\u001B[38;5;124mSMEL\u001B[39m\u001B[38;5;124m'\u001B[39m)\n",
      "File \u001B[1;32me:\\ttbv\\python\\empir19nrm02\\empir19nrm02\\tools\\help.py:58\u001B[0m, in \u001B[0;36msave_fig\u001B[1;34m(dir, filename, fig)\u001B[0m\n\u001B[0;32m     56\u001B[0m \u001B[38;5;28;01mdef\u001B[39;00m \u001B[38;5;21msave_fig\u001B[39m(\u001B[38;5;28mdir\u001B[39m \u001B[38;5;241m=\u001B[39m \u001B[38;5;28;01mNone\u001B[39;00m, filename\u001B[38;5;241m=\u001B[39m\u001B[38;5;28;01mNone\u001B[39;00m, fig\u001B[38;5;241m=\u001B[39m\u001B[38;5;28;01mNone\u001B[39;00m):\n\u001B[0;32m     57\u001B[0m     \u001B[38;5;28;01mif\u001B[39;00m fig \u001B[38;5;129;01mis\u001B[39;00m \u001B[38;5;28;01mNone\u001B[39;00m:\n\u001B[1;32m---> 58\u001B[0m         \u001B[43mpyplot\u001B[49m\u001B[38;5;241;43m.\u001B[39;49m\u001B[43msavefig\u001B[49m\u001B[43m(\u001B[49m\u001B[43m \u001B[49m\u001B[43mget_fig_file_name\u001B[49m\u001B[43m(\u001B[49m\u001B[38;5;28;43mdir\u001B[39;49m\u001B[38;5;241;43m=\u001B[39;49m\u001B[38;5;28;43mdir\u001B[39;49m\u001B[43m,\u001B[49m\u001B[43m \u001B[49m\u001B[43mfilename\u001B[49m\u001B[38;5;241;43m=\u001B[39;49m\u001B[43mfilename\u001B[49m\u001B[43m)\u001B[49m\u001B[43m,\u001B[49m\u001B[43m \u001B[49m\u001B[43mbbox_inches\u001B[49m\u001B[38;5;241;43m=\u001B[39;49m\u001B[38;5;124;43m'\u001B[39;49m\u001B[38;5;124;43mtight\u001B[39;49m\u001B[38;5;124;43m'\u001B[39;49m\u001B[43m,\u001B[49m\u001B[43m \u001B[49m\u001B[43mpad_inches\u001B[49m\u001B[38;5;241;43m=\u001B[39;49m\u001B[38;5;241;43m0\u001B[39;49m\u001B[43m)\u001B[49m\n\u001B[0;32m     59\u001B[0m         pyplot\u001B[38;5;241m.\u001B[39mshow()\n\u001B[0;32m     60\u001B[0m     \u001B[38;5;28;01melse\u001B[39;00m:\n",
      "File \u001B[1;32m~\\AppData\\Local\\Programs\\Python\\Python310\\lib\\site-packages\\matplotlib\\pyplot.py:979\u001B[0m, in \u001B[0;36msavefig\u001B[1;34m(*args, **kwargs)\u001B[0m\n\u001B[0;32m    976\u001B[0m \u001B[38;5;129m@_copy_docstring_and_deprecators\u001B[39m(Figure\u001B[38;5;241m.\u001B[39msavefig)\n\u001B[0;32m    977\u001B[0m \u001B[38;5;28;01mdef\u001B[39;00m \u001B[38;5;21msavefig\u001B[39m(\u001B[38;5;241m*\u001B[39margs, \u001B[38;5;241m*\u001B[39m\u001B[38;5;241m*\u001B[39mkwargs):\n\u001B[0;32m    978\u001B[0m     fig \u001B[38;5;241m=\u001B[39m gcf()\n\u001B[1;32m--> 979\u001B[0m     res \u001B[38;5;241m=\u001B[39m fig\u001B[38;5;241m.\u001B[39msavefig(\u001B[38;5;241m*\u001B[39margs, \u001B[38;5;241m*\u001B[39m\u001B[38;5;241m*\u001B[39mkwargs)\n\u001B[0;32m    980\u001B[0m     fig\u001B[38;5;241m.\u001B[39mcanvas\u001B[38;5;241m.\u001B[39mdraw_idle()   \u001B[38;5;66;03m# need this if 'transparent=True' to reset colors\u001B[39;00m\n\u001B[0;32m    981\u001B[0m     \u001B[38;5;28;01mreturn\u001B[39;00m res\n",
      "File \u001B[1;32m~\\AppData\\Local\\Programs\\Python\\Python310\\lib\\site-packages\\matplotlib\\figure.py:3046\u001B[0m, in \u001B[0;36mFigure.savefig\u001B[1;34m(self, fname, transparent, **kwargs)\u001B[0m\n\u001B[0;32m   3042\u001B[0m     \u001B[38;5;28;01mfor\u001B[39;00m ax \u001B[38;5;129;01min\u001B[39;00m \u001B[38;5;28mself\u001B[39m\u001B[38;5;241m.\u001B[39maxes:\n\u001B[0;32m   3043\u001B[0m         stack\u001B[38;5;241m.\u001B[39menter_context(\n\u001B[0;32m   3044\u001B[0m             ax\u001B[38;5;241m.\u001B[39mpatch\u001B[38;5;241m.\u001B[39m_cm_set(facecolor\u001B[38;5;241m=\u001B[39m\u001B[38;5;124m'\u001B[39m\u001B[38;5;124mnone\u001B[39m\u001B[38;5;124m'\u001B[39m, edgecolor\u001B[38;5;241m=\u001B[39m\u001B[38;5;124m'\u001B[39m\u001B[38;5;124mnone\u001B[39m\u001B[38;5;124m'\u001B[39m))\n\u001B[1;32m-> 3046\u001B[0m \u001B[38;5;28mself\u001B[39m\u001B[38;5;241m.\u001B[39mcanvas\u001B[38;5;241m.\u001B[39mprint_figure(fname, \u001B[38;5;241m*\u001B[39m\u001B[38;5;241m*\u001B[39mkwargs)\n",
      "File \u001B[1;32m~\\AppData\\Local\\Programs\\Python\\Python310\\lib\\site-packages\\matplotlib\\backend_bases.py:2319\u001B[0m, in \u001B[0;36mFigureCanvasBase.print_figure\u001B[1;34m(self, filename, dpi, facecolor, edgecolor, orientation, format, bbox_inches, pad_inches, bbox_extra_artists, backend, **kwargs)\u001B[0m\n\u001B[0;32m   2315\u001B[0m \u001B[38;5;28;01mtry\u001B[39;00m:\n\u001B[0;32m   2316\u001B[0m     \u001B[38;5;66;03m# _get_renderer may change the figure dpi (as vector formats\u001B[39;00m\n\u001B[0;32m   2317\u001B[0m     \u001B[38;5;66;03m# force the figure dpi to 72), so we need to set it again here.\u001B[39;00m\n\u001B[0;32m   2318\u001B[0m     \u001B[38;5;28;01mwith\u001B[39;00m cbook\u001B[38;5;241m.\u001B[39m_setattr_cm(\u001B[38;5;28mself\u001B[39m\u001B[38;5;241m.\u001B[39mfigure, dpi\u001B[38;5;241m=\u001B[39mdpi):\n\u001B[1;32m-> 2319\u001B[0m         result \u001B[38;5;241m=\u001B[39m print_method(\n\u001B[0;32m   2320\u001B[0m             filename,\n\u001B[0;32m   2321\u001B[0m             facecolor\u001B[38;5;241m=\u001B[39mfacecolor,\n\u001B[0;32m   2322\u001B[0m             edgecolor\u001B[38;5;241m=\u001B[39medgecolor,\n\u001B[0;32m   2323\u001B[0m             orientation\u001B[38;5;241m=\u001B[39morientation,\n\u001B[0;32m   2324\u001B[0m             bbox_inches_restore\u001B[38;5;241m=\u001B[39m_bbox_inches_restore,\n\u001B[0;32m   2325\u001B[0m             \u001B[38;5;241m*\u001B[39m\u001B[38;5;241m*\u001B[39mkwargs)\n\u001B[0;32m   2326\u001B[0m \u001B[38;5;28;01mfinally\u001B[39;00m:\n\u001B[0;32m   2327\u001B[0m     \u001B[38;5;28;01mif\u001B[39;00m bbox_inches \u001B[38;5;129;01mand\u001B[39;00m restore_bbox:\n",
      "File \u001B[1;32m~\\AppData\\Local\\Programs\\Python\\Python310\\lib\\site-packages\\matplotlib\\backend_bases.py:1648\u001B[0m, in \u001B[0;36m_check_savefig_extra_args.<locals>.wrapper\u001B[1;34m(*args, **kwargs)\u001B[0m\n\u001B[0;32m   1640\u001B[0m     _api\u001B[38;5;241m.\u001B[39mwarn_deprecated(\n\u001B[0;32m   1641\u001B[0m         \u001B[38;5;124m'\u001B[39m\u001B[38;5;124m3.3\u001B[39m\u001B[38;5;124m'\u001B[39m, name\u001B[38;5;241m=\u001B[39mname, removal\u001B[38;5;241m=\u001B[39m\u001B[38;5;124m'\u001B[39m\u001B[38;5;124m3.6\u001B[39m\u001B[38;5;124m'\u001B[39m,\n\u001B[0;32m   1642\u001B[0m         message\u001B[38;5;241m=\u001B[39m\u001B[38;5;124m'\u001B[39m\u001B[38;5;132;01m%(name)s\u001B[39;00m\u001B[38;5;124m() got unexpected keyword argument \u001B[39m\u001B[38;5;124m\"\u001B[39m\u001B[38;5;124m'\u001B[39m\n\u001B[0;32m   1643\u001B[0m                 \u001B[38;5;241m+\u001B[39m arg \u001B[38;5;241m+\u001B[39m \u001B[38;5;124m'\u001B[39m\u001B[38;5;124m\"\u001B[39m\u001B[38;5;124m which is no longer supported as of \u001B[39m\u001B[38;5;124m'\u001B[39m\n\u001B[0;32m   1644\u001B[0m                 \u001B[38;5;124m'\u001B[39m\u001B[38;5;132;01m%(since)s\u001B[39;00m\u001B[38;5;124m and will become an error \u001B[39m\u001B[38;5;124m'\u001B[39m\n\u001B[0;32m   1645\u001B[0m                 \u001B[38;5;124m'\u001B[39m\u001B[38;5;132;01m%(removal)s\u001B[39;00m\u001B[38;5;124m'\u001B[39m)\n\u001B[0;32m   1646\u001B[0m     kwargs\u001B[38;5;241m.\u001B[39mpop(arg)\n\u001B[1;32m-> 1648\u001B[0m \u001B[38;5;28;01mreturn\u001B[39;00m func(\u001B[38;5;241m*\u001B[39margs, \u001B[38;5;241m*\u001B[39m\u001B[38;5;241m*\u001B[39mkwargs)\n",
      "File \u001B[1;32m~\\AppData\\Local\\Programs\\Python\\Python310\\lib\\site-packages\\matplotlib\\_api\\deprecation.py:389\u001B[0m, in \u001B[0;36mdelete_parameter.<locals>.wrapper\u001B[1;34m(*inner_args, **inner_kwargs)\u001B[0m\n\u001B[0;32m    384\u001B[0m \u001B[38;5;129m@functools\u001B[39m\u001B[38;5;241m.\u001B[39mwraps(func)\n\u001B[0;32m    385\u001B[0m \u001B[38;5;28;01mdef\u001B[39;00m \u001B[38;5;21mwrapper\u001B[39m(\u001B[38;5;241m*\u001B[39minner_args, \u001B[38;5;241m*\u001B[39m\u001B[38;5;241m*\u001B[39minner_kwargs):\n\u001B[0;32m    386\u001B[0m     \u001B[38;5;28;01mif\u001B[39;00m \u001B[38;5;28mlen\u001B[39m(inner_args) \u001B[38;5;241m<\u001B[39m\u001B[38;5;241m=\u001B[39m name_idx \u001B[38;5;129;01mand\u001B[39;00m name \u001B[38;5;129;01mnot\u001B[39;00m \u001B[38;5;129;01min\u001B[39;00m inner_kwargs:\n\u001B[0;32m    387\u001B[0m         \u001B[38;5;66;03m# Early return in the simple, non-deprecated case (much faster than\u001B[39;00m\n\u001B[0;32m    388\u001B[0m         \u001B[38;5;66;03m# calling bind()).\u001B[39;00m\n\u001B[1;32m--> 389\u001B[0m         \u001B[38;5;28;01mreturn\u001B[39;00m func(\u001B[38;5;241m*\u001B[39minner_args, \u001B[38;5;241m*\u001B[39m\u001B[38;5;241m*\u001B[39minner_kwargs)\n\u001B[0;32m    390\u001B[0m     arguments \u001B[38;5;241m=\u001B[39m signature\u001B[38;5;241m.\u001B[39mbind(\u001B[38;5;241m*\u001B[39minner_args, \u001B[38;5;241m*\u001B[39m\u001B[38;5;241m*\u001B[39minner_kwargs)\u001B[38;5;241m.\u001B[39marguments\n\u001B[0;32m    391\u001B[0m     \u001B[38;5;28;01mif\u001B[39;00m is_varargs \u001B[38;5;129;01mand\u001B[39;00m arguments\u001B[38;5;241m.\u001B[39mget(name):\n",
      "File \u001B[1;32m~\\AppData\\Local\\Programs\\Python\\Python310\\lib\\site-packages\\matplotlib\\_api\\deprecation.py:415\u001B[0m, in \u001B[0;36mdelete_parameter.<locals>.wrapper\u001B[1;34m(*inner_args, **inner_kwargs)\u001B[0m\n\u001B[0;32m    405\u001B[0m     deprecation_addendum \u001B[38;5;241m=\u001B[39m (\n\u001B[0;32m    406\u001B[0m         \u001B[38;5;124mf\u001B[39m\u001B[38;5;124m\"\u001B[39m\u001B[38;5;124mIf any parameter follows \u001B[39m\u001B[38;5;132;01m{\u001B[39;00mname\u001B[38;5;132;01m!r}\u001B[39;00m\u001B[38;5;124m, they should be passed as \u001B[39m\u001B[38;5;124m\"\u001B[39m\n\u001B[0;32m    407\u001B[0m         \u001B[38;5;124mf\u001B[39m\u001B[38;5;124m\"\u001B[39m\u001B[38;5;124mkeyword, not positionally.\u001B[39m\u001B[38;5;124m\"\u001B[39m)\n\u001B[0;32m    408\u001B[0m     warn_deprecated(\n\u001B[0;32m    409\u001B[0m         since,\n\u001B[0;32m    410\u001B[0m         name\u001B[38;5;241m=\u001B[39m\u001B[38;5;28mrepr\u001B[39m(name),\n\u001B[1;32m   (...)\u001B[0m\n\u001B[0;32m    413\u001B[0m                  \u001B[38;5;28;01melse\u001B[39;00m deprecation_addendum,\n\u001B[0;32m    414\u001B[0m         \u001B[38;5;241m*\u001B[39m\u001B[38;5;241m*\u001B[39mkwargs)\n\u001B[1;32m--> 415\u001B[0m \u001B[38;5;28;01mreturn\u001B[39;00m func(\u001B[38;5;241m*\u001B[39minner_args, \u001B[38;5;241m*\u001B[39m\u001B[38;5;241m*\u001B[39minner_kwargs)\n",
      "File \u001B[1;32m~\\AppData\\Local\\Programs\\Python\\Python310\\lib\\site-packages\\matplotlib\\backends\\backend_svg.py:1321\u001B[0m, in \u001B[0;36mFigureCanvasSVG.print_svg\u001B[1;34m(self, filename, dpi, bbox_inches_restore, metadata, *args)\u001B[0m\n\u001B[0;32m   1285\u001B[0m \u001B[38;5;129m@_check_savefig_extra_args\u001B[39m\n\u001B[0;32m   1286\u001B[0m \u001B[38;5;129m@_api\u001B[39m\u001B[38;5;241m.\u001B[39mdelete_parameter(\u001B[38;5;124m\"\u001B[39m\u001B[38;5;124m3.4\u001B[39m\u001B[38;5;124m\"\u001B[39m, \u001B[38;5;124m\"\u001B[39m\u001B[38;5;124mdpi\u001B[39m\u001B[38;5;124m\"\u001B[39m)\n\u001B[0;32m   1287\u001B[0m \u001B[38;5;129m@_api\u001B[39m\u001B[38;5;241m.\u001B[39mdelete_parameter(\u001B[38;5;124m\"\u001B[39m\u001B[38;5;124m3.5\u001B[39m\u001B[38;5;124m\"\u001B[39m, \u001B[38;5;124m\"\u001B[39m\u001B[38;5;124margs\u001B[39m\u001B[38;5;124m\"\u001B[39m)\n\u001B[0;32m   1288\u001B[0m \u001B[38;5;28;01mdef\u001B[39;00m \u001B[38;5;21mprint_svg\u001B[39m(\u001B[38;5;28mself\u001B[39m, filename, \u001B[38;5;241m*\u001B[39margs, dpi\u001B[38;5;241m=\u001B[39m\u001B[38;5;28;01mNone\u001B[39;00m, bbox_inches_restore\u001B[38;5;241m=\u001B[39m\u001B[38;5;28;01mNone\u001B[39;00m,\n\u001B[0;32m   1289\u001B[0m               metadata\u001B[38;5;241m=\u001B[39m\u001B[38;5;28;01mNone\u001B[39;00m):\n\u001B[0;32m   1290\u001B[0m     \u001B[38;5;124;03m\"\"\"\u001B[39;00m\n\u001B[0;32m   1291\u001B[0m \u001B[38;5;124;03m    Parameters\u001B[39;00m\n\u001B[0;32m   1292\u001B[0m \u001B[38;5;124;03m    ----------\u001B[39;00m\n\u001B[1;32m   (...)\u001B[0m\n\u001B[0;32m   1319\u001B[0m \u001B[38;5;124;03m        __ DC_\u001B[39;00m\n\u001B[0;32m   1320\u001B[0m \u001B[38;5;124;03m    \"\"\"\u001B[39;00m\n\u001B[1;32m-> 1321\u001B[0m     \u001B[38;5;28;01mwith\u001B[39;00m \u001B[43mcbook\u001B[49m\u001B[38;5;241;43m.\u001B[39;49m\u001B[43mopen_file_cm\u001B[49m\u001B[43m(\u001B[49m\u001B[43mfilename\u001B[49m\u001B[43m,\u001B[49m\u001B[43m \u001B[49m\u001B[38;5;124;43m\"\u001B[39;49m\u001B[38;5;124;43mw\u001B[39;49m\u001B[38;5;124;43m\"\u001B[39;49m\u001B[43m,\u001B[49m\u001B[43m \u001B[49m\u001B[43mencoding\u001B[49m\u001B[38;5;241;43m=\u001B[39;49m\u001B[38;5;124;43m\"\u001B[39;49m\u001B[38;5;124;43mutf-8\u001B[39;49m\u001B[38;5;124;43m\"\u001B[39;49m\u001B[43m)\u001B[49m \u001B[38;5;28;01mas\u001B[39;00m fh:\n\u001B[0;32m   1322\u001B[0m         \u001B[38;5;28;01mif\u001B[39;00m \u001B[38;5;129;01mnot\u001B[39;00m cbook\u001B[38;5;241m.\u001B[39mfile_requires_unicode(fh):\n\u001B[0;32m   1323\u001B[0m             fh \u001B[38;5;241m=\u001B[39m codecs\u001B[38;5;241m.\u001B[39mgetwriter(\u001B[38;5;124m'\u001B[39m\u001B[38;5;124mutf-8\u001B[39m\u001B[38;5;124m'\u001B[39m)(fh)\n",
      "File \u001B[1;32m~\\AppData\\Local\\Programs\\Python\\Python310\\lib\\site-packages\\matplotlib\\cbook\\__init__.py:465\u001B[0m, in \u001B[0;36mopen_file_cm\u001B[1;34m(path_or_file, mode, encoding)\u001B[0m\n\u001B[0;32m    463\u001B[0m \u001B[38;5;28;01mdef\u001B[39;00m \u001B[38;5;21mopen_file_cm\u001B[39m(path_or_file, mode\u001B[38;5;241m=\u001B[39m\u001B[38;5;124m\"\u001B[39m\u001B[38;5;124mr\u001B[39m\u001B[38;5;124m\"\u001B[39m, encoding\u001B[38;5;241m=\u001B[39m\u001B[38;5;28;01mNone\u001B[39;00m):\n\u001B[0;32m    464\u001B[0m     \u001B[38;5;124mr\u001B[39m\u001B[38;5;124;03m\"\"\"Pass through file objects and context-manage path-likes.\"\"\"\u001B[39;00m\n\u001B[1;32m--> 465\u001B[0m     fh, opened \u001B[38;5;241m=\u001B[39m \u001B[43mto_filehandle\u001B[49m\u001B[43m(\u001B[49m\u001B[43mpath_or_file\u001B[49m\u001B[43m,\u001B[49m\u001B[43m \u001B[49m\u001B[43mmode\u001B[49m\u001B[43m,\u001B[49m\u001B[43m \u001B[49m\u001B[38;5;28;43;01mTrue\u001B[39;49;00m\u001B[43m,\u001B[49m\u001B[43m \u001B[49m\u001B[43mencoding\u001B[49m\u001B[43m)\u001B[49m\n\u001B[0;32m    466\u001B[0m     \u001B[38;5;28;01mreturn\u001B[39;00m fh \u001B[38;5;28;01mif\u001B[39;00m opened \u001B[38;5;28;01melse\u001B[39;00m contextlib\u001B[38;5;241m.\u001B[39mnullcontext(fh)\n",
      "File \u001B[1;32m~\\AppData\\Local\\Programs\\Python\\Python310\\lib\\site-packages\\matplotlib\\cbook\\__init__.py:451\u001B[0m, in \u001B[0;36mto_filehandle\u001B[1;34m(fname, flag, return_opened, encoding)\u001B[0m\n\u001B[0;32m    449\u001B[0m         fh \u001B[38;5;241m=\u001B[39m bz2\u001B[38;5;241m.\u001B[39mBZ2File(fname, flag)\n\u001B[0;32m    450\u001B[0m     \u001B[38;5;28;01melse\u001B[39;00m:\n\u001B[1;32m--> 451\u001B[0m         fh \u001B[38;5;241m=\u001B[39m \u001B[38;5;28;43mopen\u001B[39;49m\u001B[43m(\u001B[49m\u001B[43mfname\u001B[49m\u001B[43m,\u001B[49m\u001B[43m \u001B[49m\u001B[43mflag\u001B[49m\u001B[43m,\u001B[49m\u001B[43m \u001B[49m\u001B[43mencoding\u001B[49m\u001B[38;5;241;43m=\u001B[39;49m\u001B[43mencoding\u001B[49m\u001B[43m)\u001B[49m\n\u001B[0;32m    452\u001B[0m     opened \u001B[38;5;241m=\u001B[39m \u001B[38;5;28;01mTrue\u001B[39;00m\n\u001B[0;32m    453\u001B[0m \u001B[38;5;28;01melif\u001B[39;00m \u001B[38;5;28mhasattr\u001B[39m(fname, \u001B[38;5;124m'\u001B[39m\u001B[38;5;124mseek\u001B[39m\u001B[38;5;124m'\u001B[39m):\n",
      "\u001B[1;31mFileNotFoundError\u001B[0m: [Errno 2] No such file or directory: 'SPD_Test\\\\FigBLH_function.svg'"
     ]
    },
    {
     "data": {
      "text/plain": "<Figure size 432x288 with 1 Axes>",
      "image/png": "[encoded data removed]"
     },
     "metadata": {
      "needs_background": "light"
     },
     "output_type": "display_data"
    }
   ],
   "source": [
    "if 'BLH'  not in _CMF['types']:\n",
    "    print( 'BLH')\n",
    "    add_to_cmf_dict(bar=np.vstack((_BLH,_BLH[1],_BLH[1])), cieobs = 'BLH', K = 683, M = np.eye(3))\n",
    "    plot_cmf2( name='BLH', cmf_symbols=['BLH'], cmf_colors = ['b-'],  single=True)\n",
    "    save_fig( out_dir, 'BLH_function')\n",
    "\n",
    "if 'SMEL'  not in _CMF['types']:\n",
    "    print( 'SMEL')\n",
    "    add_to_cmf_dict(bar=np.vstack((_ACTIONSPECTRA_CIES026[0],_ACTIONSPECTRA_CIES026[5],_ACTIONSPECTRA_CIES026[5],_ACTIONSPECTRA_CIES026[5])), cieobs = 'SMEL', K = 683*Km_correction_factor, M = np.eye(3))\n",
    "    plot_cmf2( name='SMEL', cmf_symbols=['s_{\\mathrm{mel}}'], cmf_colors = ['b-'],  single=True)\n",
    "    save_fig( out_dir, 'SMEL_function')\n",
    "\n"
   ],
   "metadata": {
    "collapsed": false
   }
  },
  {
   "cell_type": "markdown",
   "source": [
    "# Plot all target functions\n",
    "\n",
    "BTW: The other build in CMF (X,Y,Z) for different observers are also available\n",
    "\n",
    "#### Remember: The first detector in every detector collection is the ideal detector."
   ],
   "metadata": {
    "collapsed": false
   }
  },
  {
   "cell_type": "code",
   "execution_count": null,
   "outputs": [],
   "source": [
    "ax = plot_cmf2( name='1931_2', cmf_symbols=['V'], cmf_colors = ['g-'],  single=True)\n",
    "plot_cmf2( ax=ax, name='1951_20_scotopic', cmf_symbols=['V^{´}'], cmf_colors = ['r-'],  single=True)\n",
    "plot_cmf2( ax=ax, name='BLH', cmf_symbols=['BLH'], cmf_colors = ['b-'],  single=True)\n",
    "plot_cmf2( ax=ax, name='SMEL', cmf_symbols=[strd['smel_e']], cmf_colors = ['b--'],  single=True)\n",
    "save_fig( out_dir, 'target_all')"
   ],
   "metadata": {
    "collapsed": false
   }
  },
  {
   "cell_type": "markdown",
   "source": [
    "## Show the responsivities of new collections for color detectors (x,y and z) separately\n",
    "\n",
    "* X,Y and Z Detectors"
   ],
   "metadata": {
    "collapsed": false
   }
  },
  {
   "cell_type": "code",
   "execution_count": null,
   "outputs": [],
   "source": [
    "_name = 'XDetectors'\n",
    "_detectors=_RES[_name]['S']['data'].copy()\n",
    "display_responsivity(_name, _detectors, cieobs='1931_2', s_target_index=1, out_dir=out_dir)"
   ],
   "metadata": {
    "collapsed": false
   }
  },
  {
   "cell_type": "code",
   "execution_count": null,
   "outputs": [],
   "source": [
    "_name = 'YDetectors'\n",
    "_detectors=_RES[_name]['S']['data'].copy()\n",
    "display_responsivity(_name, _detectors, cieobs='1931_2', s_target_index=2, out_dir=out_dir)"
   ],
   "metadata": {
    "collapsed": false
   }
  },
  {
   "cell_type": "code",
   "execution_count": null,
   "outputs": [],
   "source": [
    "_name = 'ZDetectors'\n",
    "_detectors=_RES[_name]['S']['data'].copy()\n",
    "display_responsivity(_name, _detectors, cieobs='1931_2', s_target_index=3, out_dir=out_dir)"
   ],
   "metadata": {
    "collapsed": false
   }
  },
  {
   "cell_type": "markdown",
   "source": [
    "# Other Detectors\n",
    "\n",
    "* BLH\n",
    "* VS\n",
    "* SMEL(ipRGC)\n",
    "\n",
    "#### Remember: The first detector in every detector collection is the ideal detector.\n"
   ],
   "metadata": {
    "collapsed": false
   }
  },
  {
   "cell_type": "code",
   "execution_count": null,
   "outputs": [],
   "source": [
    "_name = 'BLH'\n",
    "_detectors=_RES[_name+'Detectors']['S']['data'].copy()\n",
    "display_responsivity(_name, _detectors, cieobs=_name, out_dir=out_dir)"
   ],
   "metadata": {
    "collapsed": false
   }
  },
  {
   "cell_type": "code",
   "execution_count": null,
   "outputs": [],
   "source": [
    "_name = 'VS'\n",
    "_detectors=_RES[_name+'Detectors']['S']['data'].copy()\n",
    "display_responsivity(_name, _detectors, cieobs=_name, out_dir=out_dir)"
   ],
   "metadata": {
    "collapsed": false
   }
  },
  {
   "cell_type": "code",
   "execution_count": null,
   "outputs": [],
   "source": [
    "_name = 'SMEL'\n",
    "_detectors=_RES[_name+'Detectors']['S']['data'].copy()\n",
    "display_responsivity(_name, _detectors, cieobs=_name, out_dir=out_dir)"
   ],
   "metadata": {
    "collapsed": false
   }
  },
  {
   "cell_type": "markdown",
   "source": [
    "# CMF data base\n",
    "\n",
    "What is included here (including the new once)?\n",
    "* Show name\n",
    "* Plot"
   ],
   "metadata": {
    "collapsed": false
   }
  },
  {
   "cell_type": "code",
   "execution_count": null,
   "outputs": [],
   "source": [
    "print('CMF data base:')\n",
    "for cmf in _CMF['types']:\n",
    "    print( cmf)\n",
    "    if cmf == '1931_2':\n",
    "        plot_cmf2()\n",
    "        save_fig(out_dir, 'CMF_'+cmf)"
   ],
   "metadata": {
    "collapsed": false
   }
  },
  {
   "cell_type": "markdown",
   "source": [
    "# SPD data base\n",
    "\n",
    "What is included here?\n",
    "* Show name\n",
    "* Plot selected SD\n",
    "* plot the color values in a color diagram"
   ],
   "metadata": {
    "collapsed": false
   }
  },
  {
   "cell_type": "code",
   "execution_count": null,
   "outputs": [],
   "source": [
    "print('SPD data base:')\n",
    "for spd, enable  in _SPD.items():\n",
    "    print('Name:', spd, '\\t\\t\\t', 'Size:', _SPD[spd]['S']['data'].shape[0]-1)\n",
    "    _spectra=_SPD[spd]['S']['data'].copy()\n",
    "    if spd is 'MONOLED':\n",
    "        display_spectra( spd, _spectra, out_dir=out_dir)"
   ],
   "metadata": {
    "collapsed": false
   }
  },
  {
   "cell_type": "markdown",
   "source": [
    "# Summary"
   ],
   "metadata": {
    "collapsed": false
   }
  },
  {
   "cell_type": "code",
   "execution_count": null,
   "outputs": [],
   "source": [
    "print('CMF data base:')\n",
    "for cmf in _CMF['types']:\n",
    "    print('Name:', cmf)\n",
    "\n",
    "print('\\n SD data base:')\n",
    "for spd, enable in _SPD.items():\n",
    "    print('Name:', spd, '\\t\\t\\t', 'Size:', _SPD[spd]['S']['data'].shape[0]-1)\n",
    "\n",
    "print('\\n Responsivity data base:')\n",
    "for res, enable in _RES.items():\n",
    "    print('Name:', res, '\\t\\t\\t', 'Size:', _RES[res]['S']['data'].shape[0]-1)\n"
   ],
   "metadata": {
    "collapsed": false
   }
  }
 ],
 "metadata": {
  "kernelspec": {
   "name": "python3",
   "language": "python",
   "display_name": "Python 3 (ipykernel)"
  },
  "language_info": {
   "codemirror_mode": {
    "name": "ipython",
    "version": 3
   },
   "file_extension": ".py",
   "mimetype": "text/x-python",
   "name": "python",
   "nbconvert_exporter": "python",
   "pygments_lexer": "ipython3",
   "version": "3.9.5"
  }
 },
 "nbformat": 4,
 "nbformat_minor": 4
}
